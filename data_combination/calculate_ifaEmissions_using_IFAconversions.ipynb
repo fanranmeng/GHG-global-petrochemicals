{
 "cells": [
  {
   "cell_type": "code",
   "execution_count": 40,
   "metadata": {
    "collapsed": true
   },
   "outputs": [],
   "source": [
    "# Import packages\n",
    "import pandas as pd\n",
    "\n",
    "# File paths\n",
    "input_path = '../data/'\n",
    "output_path = '../data/combined/'\n",
    "\n",
    "production_file = input_path+'extracted/IFA_production_w_uncertainties.csv'\n",
    "conversion_factor_file = input_path+'extracted/conversionFactors_from_IFA_w_uncertainties.csv'"
   ]
  },
  {
   "cell_type": "code",
   "execution_count": 41,
   "outputs": [],
   "source": [
    "production = pd.read_csv(production_file)\n",
    "conversions = pd.read_csv(conversion_factor_file, index_col=0)"
   ],
   "metadata": {
    "collapsed": false,
    "pycharm": {
     "name": "#%%\n"
    }
   }
  },
  {
   "cell_type": "code",
   "execution_count": 42,
   "outputs": [],
   "source": [
    "name_conversions = {\n",
    "    'NH3': 'AMMONIA',\n",
    "    'AN': 'AMMONIUM NITRATE',\n",
    "    'Ammonium nitrate (33.5-0-0) granulated': 'AMMONIUM NITRATE',\n",
    "    'AS': 'AMMONIUM SULPHATE',\n",
    "    'CAN': 'CALCIUM AMMONIUM NITRATE',\n",
    "    'Calcium ammonium nitrate (27-0-0)': 'CALCIUM AMMONIUM NITRATE',\n",
    "    'Urea (46-0-0)': 'UREA'\n",
    "}\n",
    "\n",
    "production['PRODUCT'] = production['PRODUCT'].replace(name_conversions)\n",
    "conversions['Product'] = conversions['Product'].replace(name_conversions).str.upper()"
   ],
   "metadata": {
    "collapsed": false,
    "pycharm": {
     "name": "#%%\n"
    }
   }
  },
  {
   "cell_type": "code",
   "execution_count": 43,
   "outputs": [],
   "source": [
    "prod_conv = pd.merge(production, conversions, how='left', left_on='PRODUCT', right_on='Product')\n",
    "\n",
    "names = ['CtOG', 'Raw Material', 'Indirect Utilities', 'Direct Utilities', 'Direct Process']\n",
    "\n",
    "years = [str(i) for i in list(range(2009, 2021))]\n",
    "years_sigma = [str(year)+'_sigma' for year in years]\n",
    "\n",
    "base_columns = ['PRODUCT', 'Region'] + years + years_sigma\n",
    "base_df = production[base_columns]\n",
    "\n",
    "calc_emissions = pd.DataFrame()\n",
    "db, gas = 'ifa', 'CO2e_100a'\n",
    "for name in names:\n",
    "    df = base_df.copy()\n",
    "    df[years] = df[years].multiply(prod_conv[db+'_'+gas+'_'+name+' factor'], axis='index')\n",
    "    ## Incorrect error propagation here\n",
    "    df[years_sigma] = df[years_sigma].multiply(prod_conv[db+'_'+gas+'_'+name+' sigma'], axis='index')\n",
    "    df['Gas'] = gas\n",
    "    df['Type'] = name\n",
    "    calc_emissions = pd.concat((calc_emissions, df), axis = 0)"
   ],
   "metadata": {
    "collapsed": false,
    "pycharm": {
     "name": "#%%\n"
    }
   }
  },
  {
   "cell_type": "code",
   "execution_count": 44,
   "outputs": [],
   "source": [
    "calc_emissions.to_csv(output_path+'ifaProductionEmissions.csv')"
   ],
   "metadata": {
    "collapsed": false,
    "pycharm": {
     "name": "#%%\n"
    }
   }
  }
 ],
 "metadata": {
  "kernelspec": {
   "display_name": "Python 3",
   "language": "python",
   "name": "python3"
  },
  "language_info": {
   "codemirror_mode": {
    "name": "ipython",
    "version": 2
   },
   "file_extension": ".py",
   "mimetype": "text/x-python",
   "name": "python",
   "nbconvert_exporter": "python",
   "pygments_lexer": "ipython2",
   "version": "2.7.6"
  }
 },
 "nbformat": 4,
 "nbformat_minor": 0
}