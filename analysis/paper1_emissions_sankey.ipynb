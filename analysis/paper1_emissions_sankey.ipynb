{
 "cells": [
  {
   "cell_type": "markdown",
   "metadata": {},
   "source": [
    "## Script for creating Sankey diagrams for C-THRU petrochemical mappings paper"
   ]
  },
  {
   "cell_type": "code",
   "execution_count": 76,
   "metadata": {},
   "outputs": [],
   "source": [
    "import re\n",
    "import numpy as np\n",
    "import pandas as pd\n",
    "from floweaver import *\n",
    "import ipywidgets as ipw\n",
    "from ipysankeywidget import SankeyWidget"
   ]
  },
  {
   "cell_type": "markdown",
   "metadata": {},
   "source": [
    "### Load mapping data"
   ]
  },
  {
   "cell_type": "code",
   "execution_count": 435,
   "metadata": {},
   "outputs": [],
   "source": [
    "## Input params\n",
    "mapping_file = '../data/input_data/country_summaries_w_uncertainties.parquet'\n",
    "year = 2030\n",
    "gas = 'CO2e_100a'\n",
    "\n",
    "data_cols = ['Region', 'Product type', 'Product group', 'Type', 'Gas', 'PRODUCT', 'COUNTRY/TERRITORY', str(year), str(year)+'_sigma']"
   ]
  },
  {
   "cell_type": "code",
   "execution_count": 436,
   "metadata": {},
   "outputs": [
    {
     "data": {
      "text/html": [
       "<div>\n",
       "<style scoped>\n",
       "    .dataframe tbody tr th:only-of-type {\n",
       "        vertical-align: middle;\n",
       "    }\n",
       "\n",
       "    .dataframe tbody tr th {\n",
       "        vertical-align: top;\n",
       "    }\n",
       "\n",
       "    .dataframe thead th {\n",
       "        text-align: right;\n",
       "    }\n",
       "</style>\n",
       "<table border=\"1\" class=\"dataframe\">\n",
       "  <thead>\n",
       "    <tr style=\"text-align: right;\">\n",
       "      <th></th>\n",
       "      <th>Region</th>\n",
       "      <th>Level</th>\n",
       "      <th>target</th>\n",
       "      <th>source</th>\n",
       "      <th>value</th>\n",
       "      <th>error</th>\n",
       "      <th>type</th>\n",
       "    </tr>\n",
       "  </thead>\n",
       "  <tbody>\n",
       "    <tr>\n",
       "      <th>0</th>\n",
       "      <td>Africa</td>\n",
       "      <td>Downstream</td>\n",
       "      <td>N-fertilisers</td>\n",
       "      <td>Direct Energy Use</td>\n",
       "      <td>0.000000</td>\n",
       "      <td>0.000000</td>\n",
       "      <td>Direct Energy Use</td>\n",
       "    </tr>\n",
       "    <tr>\n",
       "      <th>1</th>\n",
       "      <td>Africa</td>\n",
       "      <td>Downstream</td>\n",
       "      <td>N-fertilisers</td>\n",
       "      <td>Feedstock</td>\n",
       "      <td>20735.333006</td>\n",
       "      <td>622.059990</td>\n",
       "      <td>Feedstock</td>\n",
       "    </tr>\n",
       "    <tr>\n",
       "      <th>2</th>\n",
       "      <td>Africa</td>\n",
       "      <td>Downstream</td>\n",
       "      <td>N-fertilisers</td>\n",
       "      <td>Indirect Energy Use</td>\n",
       "      <td>3942.014115</td>\n",
       "      <td>304.643065</td>\n",
       "      <td>Indirect Energy Use</td>\n",
       "    </tr>\n",
       "    <tr>\n",
       "      <th>3</th>\n",
       "      <td>Africa</td>\n",
       "      <td>Downstream</td>\n",
       "      <td>N-fertilisers</td>\n",
       "      <td>Organic chemicals</td>\n",
       "      <td>0.000000</td>\n",
       "      <td>0.000000</td>\n",
       "      <td>Organic chemicals</td>\n",
       "    </tr>\n",
       "    <tr>\n",
       "      <th>4</th>\n",
       "      <td>Africa</td>\n",
       "      <td>Downstream</td>\n",
       "      <td>N-fertilisers</td>\n",
       "      <td>Other intermediates</td>\n",
       "      <td>0.000000</td>\n",
       "      <td>0.000000</td>\n",
       "      <td>Other intermediates</td>\n",
       "    </tr>\n",
       "  </tbody>\n",
       "</table>\n",
       "</div>"
      ],
      "text/plain": [
       "   Region       Level         target               source         value  \\\n",
       "0  Africa  Downstream  N-fertilisers    Direct Energy Use      0.000000   \n",
       "1  Africa  Downstream  N-fertilisers            Feedstock  20735.333006   \n",
       "2  Africa  Downstream  N-fertilisers  Indirect Energy Use   3942.014115   \n",
       "3  Africa  Downstream  N-fertilisers    Organic chemicals      0.000000   \n",
       "4  Africa  Downstream  N-fertilisers  Other intermediates      0.000000   \n",
       "\n",
       "        error                 type  \n",
       "0    0.000000    Direct Energy Use  \n",
       "1  622.059990            Feedstock  \n",
       "2  304.643065  Indirect Energy Use  \n",
       "3    0.000000    Organic chemicals  \n",
       "4    0.000000  Other intermediates  "
      ]
     },
     "execution_count": 436,
     "metadata": {},
     "output_type": "execute_result"
    }
   ],
   "source": [
    "## Load and filter dataframes\n",
    "def filter_df(df, cols, filters):\n",
    "    for col, filt in zip(cols, filters):\n",
    "        df = df[[i in filt for i in df[col]]]\n",
    "    return df\n",
    "\n",
    "# Load\n",
    "data = pd.read_parquet(mapping_file)\n",
    "dp_negs_filt = pd.read_csv('negative_direct_processes.csv')\n",
    "dp_pos_filt = pd.read_csv('positive_direct_processes.csv')\n",
    "\n",
    "# Filter\n",
    "data_filt = filter_df(data[data_cols], ['Gas', 'Type'], [[gas], ['Imports', 'Indirect Energy Use', 'Direct Energy Use', 'Feedstock', 'Primary chemicals', 'Organic chemicals', 'Other intermediates']])\n",
    "data_filt = data_filt[data_filt['Product group']!=data_filt['Type']]\n",
    "data_filt = data_filt.groupby(data_cols[:-4]).sum().reset_index()\n",
    "\n",
    "# Rename for Sankey stuff\n",
    "data_filt.rename(columns={\n",
    "    'Product group':'target',\n",
    "    'Type':'source',\n",
    "    'Product type':'Level',\n",
    "    str(year):'value',\n",
    "    str(year)+'_sigma':'error'\n",
    "}, inplace=True)\n",
    "data_filt.drop(columns=['Gas'], inplace=True)\n",
    "data_filt['type'] = data_filt['source']\n",
    "\n",
    "# Change type of imports to type of product group it is imported to\n",
    "data_filt['type'] = [i if i!='Imports' else data_filt['target'].iloc[num] for num, i in enumerate(data_filt['type'])]\n",
    "\n",
    "data_filt.head()"
   ]
  },
  {
   "cell_type": "markdown",
   "metadata": {},
   "source": [
    "Adjust captured flows -- I'm not sure if this is the best way"
   ]
  },
  {
   "cell_type": "code",
   "execution_count": 437,
   "metadata": {},
   "outputs": [],
   "source": [
    "dp_negs_filt[\"target\"] = \"Captured\"\n",
    "dp_negs_filt[\"source\"] = \"N-fertilisers\""
   ]
  },
  {
   "cell_type": "code",
   "execution_count": 438,
   "metadata": {},
   "outputs": [
    {
     "data": {
      "text/html": [
       "<div>\n",
       "<style scoped>\n",
       "    .dataframe tbody tr th:only-of-type {\n",
       "        vertical-align: middle;\n",
       "    }\n",
       "\n",
       "    .dataframe tbody tr th {\n",
       "        vertical-align: top;\n",
       "    }\n",
       "\n",
       "    .dataframe thead th {\n",
       "        text-align: right;\n",
       "    }\n",
       "</style>\n",
       "<table border=\"1\" class=\"dataframe\">\n",
       "  <thead>\n",
       "    <tr style=\"text-align: right;\">\n",
       "      <th></th>\n",
       "      <th>Region</th>\n",
       "      <th>Level</th>\n",
       "      <th>source</th>\n",
       "      <th>Product</th>\n",
       "      <th>value</th>\n",
       "      <th>error</th>\n",
       "      <th>type</th>\n",
       "      <th>target</th>\n",
       "    </tr>\n",
       "  </thead>\n",
       "  <tbody>\n",
       "    <tr>\n",
       "      <th>0</th>\n",
       "      <td>Africa</td>\n",
       "      <td>Downstream</td>\n",
       "      <td>N-fertilisers</td>\n",
       "      <td>UREA</td>\n",
       "      <td>8534.613237</td>\n",
       "      <td>0.0</td>\n",
       "      <td>Direct Process</td>\n",
       "      <td>Captured</td>\n",
       "    </tr>\n",
       "    <tr>\n",
       "      <th>1</th>\n",
       "      <td>Europe</td>\n",
       "      <td>Downstream</td>\n",
       "      <td>N-fertilisers</td>\n",
       "      <td>UREA</td>\n",
       "      <td>6724.898002</td>\n",
       "      <td>0.0</td>\n",
       "      <td>Direct Process</td>\n",
       "      <td>Captured</td>\n",
       "    </tr>\n",
       "    <tr>\n",
       "      <th>2</th>\n",
       "      <td>Former USSR</td>\n",
       "      <td>Downstream</td>\n",
       "      <td>N-fertilisers</td>\n",
       "      <td>UREA</td>\n",
       "      <td>12151.479021</td>\n",
       "      <td>0.0</td>\n",
       "      <td>Direct Process</td>\n",
       "      <td>Captured</td>\n",
       "    </tr>\n",
       "    <tr>\n",
       "      <th>3</th>\n",
       "      <td>Latin America</td>\n",
       "      <td>Downstream</td>\n",
       "      <td>N-fertilisers</td>\n",
       "      <td>UREA</td>\n",
       "      <td>2231.422777</td>\n",
       "      <td>0.0</td>\n",
       "      <td>Direct Process</td>\n",
       "      <td>Captured</td>\n",
       "    </tr>\n",
       "    <tr>\n",
       "      <th>4</th>\n",
       "      <td>Middle East</td>\n",
       "      <td>Downstream</td>\n",
       "      <td>N-fertilisers</td>\n",
       "      <td>UREA</td>\n",
       "      <td>17225.232617</td>\n",
       "      <td>0.0</td>\n",
       "      <td>Direct Process</td>\n",
       "      <td>Captured</td>\n",
       "    </tr>\n",
       "    <tr>\n",
       "      <th>5</th>\n",
       "      <td>North America</td>\n",
       "      <td>Downstream</td>\n",
       "      <td>N-fertilisers</td>\n",
       "      <td>UREA</td>\n",
       "      <td>11410.138412</td>\n",
       "      <td>0.0</td>\n",
       "      <td>Direct Process</td>\n",
       "      <td>Captured</td>\n",
       "    </tr>\n",
       "    <tr>\n",
       "      <th>6</th>\n",
       "      <td>North East Asia</td>\n",
       "      <td>Downstream</td>\n",
       "      <td>N-fertilisers</td>\n",
       "      <td>UREA</td>\n",
       "      <td>50197.633067</td>\n",
       "      <td>0.0</td>\n",
       "      <td>Direct Process</td>\n",
       "      <td>Captured</td>\n",
       "    </tr>\n",
       "    <tr>\n",
       "      <th>7</th>\n",
       "      <td>Oceania</td>\n",
       "      <td>Downstream</td>\n",
       "      <td>N-fertilisers</td>\n",
       "      <td>UREA</td>\n",
       "      <td>304.904446</td>\n",
       "      <td>0.0</td>\n",
       "      <td>Direct Process</td>\n",
       "      <td>Captured</td>\n",
       "    </tr>\n",
       "    <tr>\n",
       "      <th>8</th>\n",
       "      <td>South Asia</td>\n",
       "      <td>Downstream</td>\n",
       "      <td>N-fertilisers</td>\n",
       "      <td>UREA</td>\n",
       "      <td>24211.508691</td>\n",
       "      <td>0.0</td>\n",
       "      <td>Direct Process</td>\n",
       "      <td>Captured</td>\n",
       "    </tr>\n",
       "    <tr>\n",
       "      <th>9</th>\n",
       "      <td>World</td>\n",
       "      <td>Downstream</td>\n",
       "      <td>N-fertilisers</td>\n",
       "      <td>UREA</td>\n",
       "      <td>132991.830270</td>\n",
       "      <td>0.0</td>\n",
       "      <td>Direct Process</td>\n",
       "      <td>Captured</td>\n",
       "    </tr>\n",
       "  </tbody>\n",
       "</table>\n",
       "</div>"
      ],
      "text/plain": [
       "            Region       Level         source Product          value  error  \\\n",
       "0           Africa  Downstream  N-fertilisers    UREA    8534.613237    0.0   \n",
       "1           Europe  Downstream  N-fertilisers    UREA    6724.898002    0.0   \n",
       "2      Former USSR  Downstream  N-fertilisers    UREA   12151.479021    0.0   \n",
       "3    Latin America  Downstream  N-fertilisers    UREA    2231.422777    0.0   \n",
       "4      Middle East  Downstream  N-fertilisers    UREA   17225.232617    0.0   \n",
       "5    North America  Downstream  N-fertilisers    UREA   11410.138412    0.0   \n",
       "6  North East Asia  Downstream  N-fertilisers    UREA   50197.633067    0.0   \n",
       "7          Oceania  Downstream  N-fertilisers    UREA     304.904446    0.0   \n",
       "8       South Asia  Downstream  N-fertilisers    UREA   24211.508691    0.0   \n",
       "9            World  Downstream  N-fertilisers    UREA  132991.830270    0.0   \n",
       "\n",
       "             type    target  \n",
       "0  Direct Process  Captured  \n",
       "1  Direct Process  Captured  \n",
       "2  Direct Process  Captured  \n",
       "3  Direct Process  Captured  \n",
       "4  Direct Process  Captured  \n",
       "5  Direct Process  Captured  \n",
       "6  Direct Process  Captured  \n",
       "7  Direct Process  Captured  \n",
       "8  Direct Process  Captured  \n",
       "9  Direct Process  Captured  "
      ]
     },
     "execution_count": 438,
     "metadata": {},
     "output_type": "execute_result"
    }
   ],
   "source": [
    "dp_negs_filt"
   ]
  },
  {
   "cell_type": "markdown",
   "metadata": {},
   "source": [
    "## Define helper functions"
   ]
  },
  {
   "cell_type": "code",
   "execution_count": 439,
   "metadata": {},
   "outputs": [],
   "source": [
    "## Create functions for writing values of flows in Sankey labels\n",
    "def break_string(x, words = 4, fert_skips=3):\n",
    "    spaces = [i.start() for i in re.finditer(' ', x)]\n",
    "    \n",
    "    if len(spaces) >= words:\n",
    "        return x[0].upper() + x[1:spaces[words - 1]] + '\\n' + x[spaces[words - 1]+1:]\n",
    "    if 'N-' in x:\n",
    "        if fert_skips == 2:\n",
    "            return ' \\n .\\n .  '+x[0].upper() + x[1:]\n",
    "        else: return ' \\n .\\n .\\n .  '+x[0].upper() + x[1:]\n",
    "    else:\n",
    "        return x[0].upper() + x[1:]\n",
    "    \n",
    "def get_Evalues_to_target(flows, process, shorten=False):\n",
    "    value = round(sum(flows.loc[flows.target == process, 'value'])/1E3 , 1)\n",
    "    err = round(sum(flows.loc[flows.target == process, 'error'])/1E3 , 1)\n",
    "    if err==0:\n",
    "        err=err+0.1\n",
    "    if value < 10:\n",
    "        return ' ' + str(value)+\"±\"+str(err)+' Mt'\n",
    "    if round(err, 0) == 0:\n",
    "        return ' ' + str(int(round(value,0)))+\"±\"+str(err)+' Mt'\n",
    "    return ' ' + str(int(round(value,0)))+\"±\"+str(int(round(err,0))) + ' Mt'\n",
    "\n",
    "def get_Evalues_to_source(flows,process):\n",
    "    value = round(sum(flows.loc[flows['source'] == process, 'value'])/1E3 , 2)\n",
    "    err = round(sum(flows.loc[flows['source'] == process, 'error'])/1E3 , 2)\n",
    "    if value < 10:\n",
    "        return '\\n' + str(value)+\"±\"+str(err)+' Mt'\n",
    "    if round(err, 0) == 0:\n",
    "        return '\\n' + str(int(round(value,0)))+\"±\"+str(err)+' Mt'    \n",
    "    return '\\n' + str(int(value))+\"±\"+str(int(err)) + ' Mt'\n"
   ]
  },
  {
   "cell_type": "markdown",
   "metadata": {},
   "source": [
    "## Define Sankey properties"
   ]
  },
  {
   "cell_type": "code",
   "execution_count": 440,
   "metadata": {},
   "outputs": [],
   "source": [
    "## Define order of sources and targets\n",
    "source_order = ['Direct Energy Use', 'Direct Process', 'Feedstock', 'Indirect Energy Use']\n",
    "downstream_order = ['N-fertilisers', 'Thermoplastics', 'Solvents, additives & explosives', 'Thermosets, fibre & elastomers', 'Other downstream']"
   ]
  },
  {
   "cell_type": "code",
   "execution_count": 441,
   "metadata": {
    "pycharm": {
     "name": "#%%\n"
    }
   },
   "outputs": [],
   "source": [
    "def sankey_features(sankey_table, source_order, downstream_order_used, details=False, fert_skips=3):\n",
    "\n",
    "    # Get values for labels\n",
    "    source_vals = sankey_table.groupby('source').sum(numeric_only=True).reset_index()\n",
    "    target_vals = sankey_table.groupby('target').sum(numeric_only=True).reset_index()\n",
    "    imports_value = sankey_table[sankey_table['source']=='Imports'].sum(numeric_only=True)\n",
    "    imports_error = np.ceil(0.1*imports_value['error']/1E3)\n",
    "    dir_proc_value = sankey_table[sankey_table['target']=='Captured'].sum(numeric_only=True)\n",
    "\n",
    "    # Create partitions with data labels\n",
    "    if details:\n",
    "        shortened_source = source_order.copy()\n",
    "        shortened_downstream = downstream_order_used.copy()\n",
    "    else: \n",
    "        shortened_source = ['DEU', 'DP', 'FS', 'IEU']\n",
    "        shortened_downstream = ['N-Fs', 'TPs', 'SA&E', 'TF&E', 'Other & exports\\n']\n",
    "\n",
    "    source_partition = Partition(tuple([Group(break_string(s, words=5) + get_Evalues_to_source(source_vals, i),\n",
    "                                              (('source', (i,)),)) for i, s in zip(source_order, shortened_source)]))\n",
    "\n",
    "    downstream_partition = Partition(tuple([Group(break_string(s, words=5, fert_skips=fert_skips) + get_Evalues_to_target(target_vals, i),\n",
    "                                                  (('process', (i,)),)) for i, s in zip(downstream_order_used, shortened_downstream)]))\n",
    "    # downstream_partition = Partition(tuple([Group(break_string(s, words=5) + get_Evalues_to_target(target_vals, i),\n",
    "    #                                               (('target', (i,)),)) for i, s in zip(downstream_order_used, shortened_downstream)]))\n",
    "\n",
    "    print(downstream_partition)# = Partition.Simple('process', shortened_downstream)\n",
    "    #\n",
    "\n",
    "    # Define nodes\n",
    "    nodes = {\n",
    "        'sources': ProcessGroup('type == \"source\"', source_partition, title='Sources' if details else \"\"),\n",
    "        'imports': ProcessGroup(['Imports'], title='Imports\\n'+str(int(imports_value['value']/1E3))+\"±\"+str(int(imports_error))+' Mt'),\n",
    "        'pc': ProcessGroup(['Primary chemicals'], title='Primary\\nchemicals' if details else 'PC'),\n",
    "        'oc': ProcessGroup(['Organic chemicals'], title='Organic\\nchemicals' if details else 'OC'),\n",
    "        'other_ints': ProcessGroup(['Other intermediates'], title='Other\\nintermediates' if details else 'OI'),\n",
    "        'downstream': ProcessGroup('type == \"downstream\"', downstream_partition, title='Downstream' if details else \"\"),\n",
    "        'captured': ProcessGroup(['Captured'], title='Captured\\n'+str(int(dir_proc_value['value']/1E3))+\"±\"+str(int(np.ceil(0.1*dir_proc_value['value']/1E3)))+' Mt'),\n",
    "        'up1': Waypoint(title=''),\n",
    "        'up2': Waypoint(title=''),\n",
    "        'up3': Waypoint(title=''),\n",
    "        'pcw1': Waypoint(title=''),\n",
    "        'pcw2': Waypoint(title=''),\n",
    "        'ocw1': Waypoint(title=''),\n",
    "        'imp1': Waypoint(title=''),\n",
    "        'imp2': Waypoint(title=''),\n",
    "    }\n",
    "\n",
    "\n",
    "\n",
    "    # Define ordering\n",
    "    ordering = [\n",
    "        [[], ['sources', 'imports']],\n",
    "        [[], ['up1', 'pc', 'imp1']],\n",
    "        [[], ['up2','pcw1','oc', 'imp2']],\n",
    "        [[], ['up3','pcw2','ocw1','other_ints']],\n",
    "        [[], ['downstream']],\n",
    "        [['captured'], []]\n",
    "    ]\n",
    "\n",
    "    # Define bundles\n",
    "    bundles = [\n",
    "              Bundle('sources','pc'),\n",
    "              Bundle('sources','oc', waypoints=['up1']),\n",
    "              Bundle('sources','other_ints', waypoints=['up1', 'up2']),\n",
    "              Bundle('sources','downstream', waypoints=['up1', 'up2', 'up3']),\n",
    "              Bundle('imports','pc'),\n",
    "              Bundle('imports','oc', waypoints=['imp1']),\n",
    "              Bundle('imports','other_ints', waypoints=['imp1', 'imp2']),\n",
    "              Bundle('pc','oc'),\n",
    "              Bundle('pc','other_ints', waypoints=['pcw1']),\n",
    "              Bundle('pc','downstream',  waypoints=['pcw1', 'pcw2']),\n",
    "              Bundle('oc','pc'),\n",
    "              Bundle('oc','other_ints'),\n",
    "              Bundle('oc','downstream',  waypoints=['ocw1']),\n",
    "              Bundle('other_ints','downstream'),\n",
    "              Bundle('downstream','captured'),\n",
    "    ]\n",
    "    return {'nodes':nodes,'ordering':ordering,'bundles':bundles}\n",
    "\n",
    "palette = {\n",
    "    'Feedstock': '#E66070',\n",
    "    'Direct Process':'#498DE6',\n",
    "    'Direct Energy Use': '#6EE588',\n",
    "    'Indirect Energy Use': '#E6A730',\n",
    "    'Organic chemicals': '#888888',\n",
    "    'Other intermediates': '#A055E6',\n",
    "    'Primary chemicals': '#444444'\n",
    "}"
   ]
  },
  {
   "cell_type": "code",
   "execution_count": 442,
   "metadata": {},
   "outputs": [],
   "source": [
    "def create_diagram(region, data, neg_dps, pos_dps, source_order, downstream_order, width=400, left_marg=75, right_marg=120, details=False, fert_skips=3):\n",
    "\n",
    "    region_data = filter_df(data, ['Region'], [region])\n",
    "    dp_negs_reg = filter_df(neg_dps, ['Region'], [region])\n",
    "    dp_pos_reg = filter_df(pos_dps, ['Region'], [region])\n",
    "    \n",
    "    sankey_table = pd.concat((region_data, dp_negs_reg, dp_pos_reg))\n",
    "    sankey_table = sankey_table[sankey_table[\"value\"] > 1e-9]\n",
    "\n",
    "    # Create processes\n",
    "    processes = pd.DataFrame(columns=['id', 'type'])\n",
    "    processes['id'] = np.concatenate((source_order, downstream_order))\n",
    "    processes['type'] = np.concatenate((['source']*len(source_order), ['downstream']*len(downstream_order)))\n",
    "\n",
    "    # Draw Sankey\n",
    "    dataset = Dataset(sankey_table, dim_process=processes.set_index('id'))\n",
    "    features = sankey_features(sankey_table, source_order, downstream_order, details, fert_skips=fert_skips)\n",
    "    flow_partition = Partition.Simple(\"type\", sankey_table['type'].unique())\n",
    "    sdd = SankeyDefinition(features['nodes'], features['bundles'], features['ordering'], flow_partition = flow_partition)\n",
    "    result = weave(sdd, dataset, palette=palette) \\\n",
    "        .to_widget(width=width, height=250, margins={'right':right_marg, 'left':left_marg, 'top': 11}, align_link_types=False, debugging=True)\n",
    "    return sankey_table, result, features"
   ]
  },
  {
   "cell_type": "code",
   "execution_count": 443,
   "metadata": {},
   "outputs": [
    {
     "name": "stdout",
     "output_type": "stream",
     "text": [
      "Partition(groups=(Group(label=' \\n .\\n .  N-Fs 60±10 Mt', query=(('process', ('N-fertilisers',)),)), Group(label='TPs 110±24 Mt', query=(('process', ('Thermoplastics',)),)), Group(label='SA&E 2.4±0.8 Mt', query=(('process', ('Solvents, additives & explosives',)),)), Group(label='TF&E 38±6 Mt', query=(('process', ('Thermosets, fibre & elastomers',)),)), Group(label='Other & exports\\n 87±18 Mt', query=(('process', ('Other downstream & exports',)),))))\n",
      "Partition(groups=(Group(label=' \\n .\\n .  N-Fs 76±11 Mt', query=(('process', ('N-fertilisers',)),)), Group(label='TPs 92±27 Mt', query=(('process', ('Thermoplastics',)),)), Group(label='SA&E 0.4±0.2 Mt', query=(('process', ('Solvents, additives & explosives',)),)), Group(label='TF&E 13±2 Mt', query=(('process', ('Thermosets, fibre & elastomers',)),)), Group(label='Other & exports\\n 32±6 Mt', query=(('process', ('Other downstream & exports',)),))))\n",
      "Partition(groups=(Group(label=' \\n .\\n .  N-Fs 75±13 Mt', query=(('process', ('N-fertilisers',)),)), Group(label='TPs 135±33 Mt', query=(('process', ('Thermoplastics',)),)), Group(label='SA&E 2.8±1.2 Mt', query=(('process', ('Solvents, additives & explosives',)),)), Group(label='TF&E 46±8 Mt', query=(('process', ('Thermosets, fibre & elastomers',)),)), Group(label='Other & exports\\n 113±22 Mt', query=(('process', ('Other downstream & exports',)),))))\n",
      "Partition(groups=(Group(label=' \\n .\\n .  N-Fs 251±41 Mt', query=(('process', ('N-fertilisers',)),)), Group(label='TPs 618±138 Mt', query=(('process', ('Thermoplastics',)),)), Group(label='SA&E 9.9±2.9 Mt', query=(('process', ('Solvents, additives & explosives',)),)), Group(label='TF&E 394±78 Mt', query=(('process', ('Thermosets, fibre & elastomers',)),)), Group(label='Other & exports\\n 216±58 Mt', query=(('process', ('Other downstream & exports',)),))))\n",
      "Partition(groups=(Group(label=' \\n .\\n .  N-Fs 98±13 Mt', query=(('process', ('N-fertilisers',)),)), Group(label='TPs 176±44 Mt', query=(('process', ('Thermoplastics',)),)), Group(label='SA&E 1.7±0.6 Mt', query=(('process', ('Solvents, additives & explosives',)),)), Group(label='TF&E 65±14 Mt', query=(('process', ('Thermosets, fibre & elastomers',)),)), Group(label='Other & exports\\n 2.1±0.3 Mt', query=(('process', ('Other downstream & exports',)),))))\n",
      "Partition(groups=(Group(label=' \\n .\\n .\\n .  N-Fs 154±28 Mt', query=(('process', ('N-fertilisers',)),)), Group(label='TPs 87±20 Mt', query=(('process', ('Thermoplastics',)),)), Group(label='SA&E 1.4±0.5 Mt', query=(('process', ('Solvents, additives & explosives',)),)), Group(label='TF&E 17±3 Mt', query=(('process', ('Thermosets, fibre & elastomers',)),)), Group(label='Other & exports\\n 5.1±1.0 Mt', query=(('process', ('Other downstream & exports',)),))))\n"
     ]
    },
    {
     "data": {
      "application/vnd.jupyter.widget-view+json": {
       "model_id": "95fdbbe2e58a4dd391d6c65ba9f29548",
       "version_major": 2,
       "version_minor": 0
      },
      "text/plain": [
       "VBox(children=(SankeyWidget(groups=[{'id': 'sources', 'type': 'process', 'title': '', 'nodes': ['sources^DEU\\n…"
      ]
     },
     "metadata": {},
     "output_type": "display_data"
    }
   ],
   "source": [
    "## Loop for regional diagrams\n",
    "region_groups = [['Europe'], ['Middle East'], ['North America'], ['North East Asia'], ['South Asia'], ['Africa', 'Former USSR', 'Latin America', 'Oceania']]\n",
    "\n",
    "## Define sources and targets\n",
    "source_order = ['Direct Energy Use', 'Direct Process', 'Feedstock', 'Indirect Energy Use']\n",
    "downstream_order = ['N-fertilisers', 'Thermoplastics', 'Solvents, additives & explosives', 'Thermosets, fibre & elastomers', 'Other downstream & exports']\n",
    "\n",
    "reg_values, reg_errors = [], []\n",
    "reg_diagrams = {}\n",
    "for num, (region, skip) in enumerate(zip(region_groups, [2,2,2,2,2,3])):\n",
    "    sankey_table, diag, features = create_diagram(region, data_filt, dp_negs_filt, dp_pos_filt, source_order, downstream_order, details=False, fert_skips=skip)\n",
    "    reg_diagrams.update({region[0]:diag})\n",
    "\n",
    "    captured_val = sankey_table[sankey_table['target']=='Captured'].sum()['value']\n",
    "    summary_vals = filter_df(sankey_table,  ['target'], [downstream_order]).sum(numeric_only=True)\n",
    "    reg_values = reg_values + ['{:,}'.format(int(((summary_vals['value']-captured_val)/1E3)))]\n",
    "    reg_errors = reg_errors + ['{:,}'.format(int(summary_vals['error']/1E3))]\n",
    "    \n",
    "#diag.children[0].scale = 0.0003\n",
    "diag"
   ]
  },
  {
   "cell_type": "code",
   "execution_count": 444,
   "metadata": {},
   "outputs": [
    {
     "name": "stdout",
     "output_type": "stream",
     "text": [
      "Partition(groups=(Group(label=' \\n .\\n .  N-fertilisers 713±116 Mt', query=(('process', ('N-fertilisers',)),)), Group(label='Thermoplastics 1218±286 Mt', query=(('process', ('Thermoplastics',)),)), Group(label='Solvents, additives & explosives 19±6 Mt', query=(('process', ('Solvents, additives & explosives',)),)), Group(label='Thermosets, fibre & elastomers 573±112 Mt', query=(('process', ('Thermosets, fibre & elastomers',)),)), Group(label='Other downstream 343±69 Mt', query=(('process', ('Other downstream',)),))))\n"
     ]
    }
   ],
   "source": [
    "## Create world diagram\n",
    "## Define sources and targets\n",
    "source_order = ['Direct Energy Use', 'Direct Process', 'Feedstock', 'Indirect Energy Use']\n",
    "downstream_order = ['N-fertilisers', 'Thermoplastics', 'Solvents, additives & explosives', 'Thermosets, fibre & elastomers', 'Other downstream']\n",
    "\n",
    "world_table, world_diag, features = create_diagram('World', data_filt, dp_negs_filt, dp_pos_filt,source_order, downstream_order,\n",
    "                                          width=800, left_marg=150, right_marg=250, details=True, fert_skips=2)\n",
    "captured_val = world_table[world_table['target']=='Captured'].sum()['value']\n",
    "summary_vals = filter_df(world_table, ['target'], [downstream_order]).sum(numeric_only=True)\n",
    "world_val, world_err = '{:,}'.format(int(((summary_vals['value']-captured_val)/1E3))), '{:,}'.format(int(summary_vals['error']/1E3))"
   ]
  },
  {
   "cell_type": "code",
   "execution_count": 445,
   "metadata": {},
   "outputs": [
    {
     "data": {
      "text/plain": [
       "'2,731'"
      ]
     },
     "execution_count": 445,
     "metadata": {},
     "output_type": "execute_result"
    }
   ],
   "source": [
    "world_val"
   ]
  },
  {
   "cell_type": "code",
   "execution_count": 446,
   "metadata": {},
   "outputs": [],
   "source": [
    "## Create HTML visualisation box\n",
    "\n",
    "region_filt_names = region_groups[:-1]+[['Other']]\n",
    "letters = ['b','c','d','e','f','g']\n",
    "\n",
    "for num, (reg, let) in enumerate(zip(region_groups[::2], letters[::2])):\n",
    "    val1, val2 = reg_values[num*2], reg_values[num*2+1]\n",
    "    err1, err2 = reg_errors[num*2], reg_errors[num*2+1]\n",
    "    if num==0:\n",
    "        text = \"<pre class=tab><big><b>     \"+let+\"</b>      \"+reg[0]+\": \"+str(val1)+\"&plusmn;\"+err1+\" Mt                <b>\"+letters[num*2+1]+\"</b>       \"+region_filt_names[num*2+1][0]+\": \"+str(val2)+\"&plusmn;\"+err2+\" Mt</big></pre>\"\n",
    "    elif num==1:\n",
    "        text = \"<pre class=tab><big><b>     \"+let+\"</b>  \"+reg[0]+\": \"+str(val1)+\"&plusmn;\"+err1+\" Mt            <b>\"+letters[num*2+1]+\"</b>   \"+region_filt_names[num*2+1][0]+\": \"+str(val2)+\"&plusmn;\"+err2+\" Mt</big></pre>\"\n",
    "    else:\n",
    "        text = \"<pre class=tab><big><b>     \"+let+\"</b>    \"+reg[0]+\": \"+str(val1)+\"&plusmn;\"+err1+\" Mt               <b>\"+letters[num*2+1]+\"</b>       \"+region_filt_names[num*2+1][0]+\": \"+str(val2)+\"&plusmn;\"+err2+\" Mt</big></pre>\"\n",
    "\n",
    "    globals()['name'+str(num)] = ipw.HTML(value=text)\n",
    "    globals()['row'+str(num)] = ipw.HBox((reg_diagrams[reg[0]], reg_diagrams[region_groups[num*2+1][0]]))\n",
    "\n",
    "name_world = ipw.HTML(\"<pre class=tab><big><b>    a</b>                        World: \"+str(world_val)+\"&plusmn;\"+str(world_err)+\" Mt\")\n",
    "final = ipw.VBox((name_world, world_diag, name0, row0, name1, row1, name2, row2))"
   ]
  },
  {
   "cell_type": "code",
   "execution_count": 448,
   "metadata": {},
   "outputs": [
    {
     "data": {
      "application/vnd.jupyter.widget-view+json": {
       "model_id": "ec916aeb3c0544cdb183361e3bc605b7",
       "version_major": 2,
       "version_minor": 0
      },
      "text/plain": [
       "VBox(children=(HTML(value='<pre class=tab><big><b>    a</b>                        World: 2,731&plusmn;589 Mt'…"
      ]
     },
     "metadata": {},
     "output_type": "display_data"
    }
   ],
   "source": [
    "final"
   ]
  },
  {
   "cell_type": "code",
   "execution_count": null,
   "metadata": {},
   "outputs": [],
   "source": []
  }
 ],
 "metadata": {
  "kernelspec": {
   "display_name": "Python 3 (ipykernel)",
   "language": "python",
   "name": "python3"
  },
  "language_info": {
   "codemirror_mode": {
    "name": "ipython",
    "version": 3
   },
   "file_extension": ".py",
   "mimetype": "text/x-python",
   "name": "python",
   "nbconvert_exporter": "python",
   "pygments_lexer": "ipython3",
   "version": "3.8.8"
  },
  "toc": {
   "base_numbering": 1,
   "nav_menu": {},
   "number_sections": true,
   "sideBar": true,
   "skip_h1_title": false,
   "title_cell": "Table of Contents",
   "title_sidebar": "Contents",
   "toc_cell": false,
   "toc_position": {},
   "toc_section_display": true,
   "toc_window_display": false
  },
  "vscode": {
   "interpreter": {
    "hash": "5bd18efe96e89ca56dc4172478a339764b61ea0834bfb59b6443dd7254159bd4"
   }
  },
  "widgets": {
   "application/vnd.jupyter.widget-state+json": {
    "state": {},
    "version_major": 2,
    "version_minor": 0
   }
  }
 },
 "nbformat": 4,
 "nbformat_minor": 1
}
