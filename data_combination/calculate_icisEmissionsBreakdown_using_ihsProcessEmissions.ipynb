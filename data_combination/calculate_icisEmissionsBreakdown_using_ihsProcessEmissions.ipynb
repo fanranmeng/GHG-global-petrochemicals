{
 "cells": [
  {
   "cell_type": "markdown",
   "metadata": {
    "pycharm": {
     "name": "#%% md\n"
    }
   },
   "source": [
    "# Breakdown of Calculation of per facility ICIS emisions given related IHS processes\n",
    "\n",
    "Assumptions -> Conversion factor used for ICIS facility is mean of conversion factors for all corresponding IHS processes\n",
    "-> For Ethylene, feedstock conversion factor is mean of conversion factors linked to feedstock"
   ]
  },
  {
   "cell_type": "code",
   "execution_count": null,
   "metadata": {
    "pycharm": {
     "name": "#%%\n"
    }
   },
   "outputs": [],
   "source": [
    "# Import packages\n",
    "import re\n",
    "import numpy as np\n",
    "import pandas as pd\n",
    "from tqdm import tqdm\n",
    "\n",
    "# File paths\n",
    "input_path = '../data/'\n",
    "output_path = '../data/combined/'\n",
    "\n",
    "production_file = input_path+'processed/icisFacilityProduction_w_uncertainties.csv'\n",
    "conversion_factor_file = input_path+'combined/ihsProcessEmissions_decomposition_mass.csv'\n",
    "matching_file = input_path+'extra_inputs/all_icis_to_ihs_matches.csv'\n",
    "matching_on = ['PRODUCT', 'ROUTE', 'TECHNOLOGY', 'LICENSOR']"
   ]
  },
  {
   "cell_type": "markdown",
   "metadata": {
    "pycharm": {
     "name": "#%% md\n"
    }
   },
   "source": [
    "## Import data"
   ]
  },
  {
   "cell_type": "code",
   "execution_count": null,
   "metadata": {
    "pycharm": {
     "name": "#%%\n"
    }
   },
   "outputs": [],
   "source": [
    "# Import data\n",
    "icis_ihs_matches = pd.read_csv(matching_file, index_col=0)\n",
    "facility_production = pd.read_csv(production_file, index_col=0)\n",
    "\n",
    "conv_factors = pd.read_csv(conversion_factor_file, index_col=0)\n",
    "# conv_factors = conv_factors.dropna(subset=['ihs_match'])\n",
    "# keep_cols = ['ihs_match', 'Product', 'Material', 'Material Type', 'Gas', 'value']\n",
    "# conv_factors = pd.read_csv(conversion_factor_file, index_col=0).rename(columns={'Target/Process':'ihs_match'})[keep_cols]\n",
    "# conv_factors = conv_factors[conv_factors.columns[['conv_factor' not in col for col in conv_factors.columns]]].dropna(subset=['ihs_match'])"
   ]
  },
  {
   "cell_type": "code",
   "execution_count": null,
   "metadata": {
    "pycharm": {
     "name": "#%%\n"
    }
   },
   "outputs": [],
   "source": [
    "## Add IFA production\n",
    "fert_production_file = input_path+'extracted/IFA_production_w_uncertainties.csv'\n",
    "ifa_production = pd.read_csv(fert_production_file)\n",
    "\n",
    "name_conversions = {\n",
    "    'NH3': 'AMMONIA',\n",
    "    'AN': 'AMMONIUM NITRATE',\n",
    "    'Ammonium nitrate (33.5-0-0) granulated': 'AMMONIUM NITRATE',\n",
    "    'AS': 'AMMONIUM SULPHATE',\n",
    "    'CAN': 'CALCIUM AMMONIUM NITRATE',\n",
    "    'Calcium ammonium nitrate (27-0-0)': 'CALCIUM AMMONIUM NITRATE',\n",
    "    'Urea (46-0-0)': 'UREA'\n",
    "}\n",
    "\n",
    "ifa_ihs_matches = {\n",
    "    'AMMONIA':'AMMONIA',\n",
    "    'AMMONIUM NITRATE': 'AMMONIUM NITRATE FERTILIZER',\n",
    "    'AMMONIUM SULPHATE': 'HYDROXYLAMMONIUM SULFATE',\n",
    "    'CALCIUM AMMONIUM NITRATE':'AMMONIUM NITRATE FERTILIZER',\n",
    "    'UREA': 'UREA, AGRICULTURAL GRADE'\n",
    "}\n",
    "\n",
    "ifa_production['PRODUCT'] = ifa_production['PRODUCT'].replace(name_conversions)\n",
    "ifa_production.rename(columns={'Region':'COUNTRY/TERRITORY'}, inplace=True)\n",
    "ifa_production['Conv_name'] = ifa_production['PRODUCT'].replace(ifa_ihs_matches)"
   ]
  },
  {
   "cell_type": "code",
   "execution_count": null,
   "metadata": {
    "pycharm": {
     "name": "#%%\n"
    }
   },
   "outputs": [],
   "source": [
    "facility_conversion = facility_production.merge(icis_ihs_matches, on=matching_on, how='left')\n",
    "ifa_conversion = ifa_production.merge(conv_factors[['Target/Process', 'Product']].rename(columns={'Target/Process':'ihs_match'}).drop_duplicates(), left_on='Conv_name', right_on='Product', how='left').drop(columns=['Conv_name', 'Product'])\n",
    "facility_conversion = pd.concat((facility_conversion, ifa_conversion))"
   ]
  },
  {
   "cell_type": "code",
   "execution_count": null,
   "metadata": {
    "pycharm": {
     "name": "#%%\n"
    }
   },
   "outputs": [],
   "source": [
    "# Print out Products with no IHS match\n",
    "#facility_conversion[facility_conversion['ihs_match'].isna()][['PRODUCT','ROUTE']].drop_duplicates()"
   ]
  },
  {
   "cell_type": "code",
   "execution_count": null,
   "metadata": {
    "pycharm": {
     "name": "#%%\n"
    }
   },
   "outputs": [],
   "source": [
    "### -> Misses products with no IHS match\n",
    "facility_conversion = facility_conversion.dropna(subset=['ihs_match']).merge(conv_factors, left_on=['ihs_match'], right_on='Target/Process', how='left')\n",
    "\n",
    "facility_conversion = facility_conversion.drop_duplicates().drop(columns=['Emission source'])"
   ]
  },
  {
   "cell_type": "code",
   "execution_count": null,
   "metadata": {
    "pycharm": {
     "name": "#%%\n"
    }
   },
   "outputs": [],
   "source": [
    "### -> Misses products with no IHS match\n",
    "facility_conversion_pivoted = facility_conversion.pivot(index=list(facility_conversion.columns[:-4])+['Material', 'Material Type'], columns='Gas', values='value')\n",
    "facility_conversion_pivoted.reset_index().to_csv(output_path+'facility_conversion_pivoted.csv')"
   ]
  },
  {
   "cell_type": "code",
   "execution_count": null,
   "metadata": {
    "pycharm": {
     "name": "#%%\n"
    }
   },
   "outputs": [],
   "source": [
    "facility_conversion = pd.read_csv(output_path+'facility_conversion_pivoted.csv', index_col=0)"
   ]
  },
  {
   "cell_type": "markdown",
   "metadata": {
    "pycharm": {
     "name": "#%% md\n"
    }
   },
   "source": [
    "## Calculate emissions by combining production with conversion factors"
   ]
  },
  {
   "cell_type": "code",
   "execution_count": null,
   "metadata": {
    "pycharm": {
     "name": "#%%\n"
    }
   },
   "outputs": [],
   "source": [
    "# Calculate facility emissions for\n",
    "# dbs = ['combined_', 'ihs_cradle-to-out-gate ', 'Raw Material ', 'Indirect Utilities ', 'Direct Utilities ', 'Direct Process ', 'Electricity ']\n",
    "# names = ['EI & CM', 'IHS CtOG', 'Raw Material', 'Indirect Utilities', 'Direct Utilities', 'Direct Process', 'Electricity']\n",
    "\n",
    "emission_val_cols = ['CO2e_20a', 'CO2e_100a']\n",
    "emission_val_cols_sigma = [col + '_sigma' for col in emission_val_cols]\n",
    "\n",
    "# Create base dataframe to use\n",
    "years = [str(i) for i in range(1978, 2051)]\n",
    "years_sigma = [year+'_sigma' for year in years]\n",
    "base_columns = ['PRODUCT', 'COUNTRY/TERRITORY', 'STATE', 'COMPANY', 'SITE', '#',\n",
    "       'ROUTE', 'TECHNOLOGY', 'LICENSOR', 'START_YR', 'COMPLEX', 'LATITUDE', 'LONGITUDE', 'ihs_match', 'Material', 'Material Type'] + years + years_sigma\n",
    "base_df = facility_conversion[base_columns]\n",
    "\n",
    "facility_emissions = pd.DataFrame()\n",
    "# for db, name in tqdm(zip(dbs, names)):\n",
    "for gas in tqdm(emission_val_cols):\n",
    "    df = base_df.copy()\n",
    "    df[years] = df[years].multiply(facility_conversion[gas], axis='index')\n",
    "    ## Incorrect error propagation here\n",
    "    df[years_sigma] = df[years_sigma].multiply(facility_conversion[gas+'_sigma'], axis='index')\n",
    "    df['Gas'] = gas\n",
    "    facility_emissions = pd.concat((facility_emissions, df), axis = 0)\n",
    "\n",
    "# # Save as parquet file for large size\n",
    "# facility_emissions.to_parquet(output_path+'icisFacilityEmissions_allIhsProcesses_w_uncertainties_10-12.parquet')"
   ]
  },
  {
   "cell_type": "code",
   "execution_count": null,
   "metadata": {
    "pycharm": {
     "name": "#%%\n"
    }
   },
   "outputs": [],
   "source": [
    "# Save as parquet file for large size\n",
    "facility_emissions['COMPLEX'] = facility_emissions['COMPLEX'].astype(str)\n",
    "facility_emissions.to_parquet(output_path+'icisFacilityEmissionsDetailed_allIhsProcesses_w_uncertainties.parquet')"
   ]
  },
  {
   "cell_type": "code",
   "execution_count": null,
   "metadata": {
    "pycharm": {
     "name": "#%%\n"
    }
   },
   "outputs": [],
   "source": [
    "facility_emissions = pd.read_parquet(output_path+'icisFacilityEmissionsDetailed_allIhsProcesses_w_uncertainties.parquet')"
   ]
  },
  {
   "cell_type": "code",
   "execution_count": null,
   "metadata": {
    "pycharm": {
     "name": "#%%\n"
    }
   },
   "outputs": [],
   "source": [
    "years = [str(i) for i in range(1978, 2051)]\n",
    "years_sigma = [year+'_sigma' for year in years]\n",
    "facility_emissions[years+years_sigma] = facility_emissions[years+years_sigma].fillna(0)"
   ]
  },
  {
   "cell_type": "code",
   "execution_count": null,
   "metadata": {
    "pycharm": {
     "name": "#%%\n"
    }
   },
   "outputs": [],
   "source": [
    "# Take average output when many IHS processes correspond to single facility to get one value for each facility\n",
    "aggregated_emissions = facility_emissions.fillna('n.a.').groupby(list(facility_emissions.columns[:13])+['Material','Material Type','Gas']).mean()"
   ]
  },
  {
   "cell_type": "code",
   "execution_count": null,
   "metadata": {
    "pycharm": {
     "name": "#%%\n"
    }
   },
   "outputs": [],
   "source": [
    "aggregated_emissions"
   ]
  },
  {
   "cell_type": "code",
   "execution_count": null,
   "metadata": {
    "pycharm": {
     "name": "#%%\n"
    }
   },
   "outputs": [],
   "source": [
    "facility_emissions"
   ]
  },
  {
   "cell_type": "code",
   "execution_count": null,
   "metadata": {
    "pycharm": {
     "name": "#%%\n"
    }
   },
   "outputs": [],
   "source": [
    "aggregated_emissions = aggregated_emissions.reset_index()\n",
    "aggregated_emissions[aggregated_emissions.columns[:17]] = aggregated_emissions[aggregated_emissions.columns[:17]].astype(str)"
   ]
  },
  {
   "cell_type": "code",
   "execution_count": null,
   "metadata": {
    "pycharm": {
     "name": "#%%\n"
    }
   },
   "outputs": [],
   "source": [
    "# Save aggregated emissions\n",
    "aggregated_emissions.to_parquet(output_path+'icisFacilityEmissionsDetailed_ihsMean_w_uncertainties.parquet')"
   ]
  },
  {
   "cell_type": "markdown",
   "metadata": {
    "pycharm": {
     "name": "#%% md\n"
    }
   },
   "source": [
    "## Weighted average for Ethylene production"
   ]
  },
  {
   "cell_type": "code",
   "execution_count": null,
   "metadata": {
    "pycharm": {
     "name": "#%%\n"
    }
   },
   "outputs": [],
   "source": [
    "# Read in individual facilities\n",
    "facility_production = pd.read_csv(production_file, index_col=0)\n",
    "eth_prod = facility_production[facility_production['PRODUCT']=='ETHYLENE'].reset_index(drop=True)\n",
    "conv_factors = pd.read_csv(conversion_factor_file, index_col=0)\n",
    "eth_conv = conv_factors[conv_factors['Product']=='ETHYLENE'].reset_index(drop=True).rename(columns={'Target/Process':'ihs_match'})\n",
    "\n",
    "# Ethylene feedstocks\n",
    "feedstocks = pd.read_csv(input_path+'extracted/icisEthyleneFeedstocks_1978-2050.csv', index_col=0, header=[0,1])\n",
    "feedstock_types = pd.read_csv(input_path+'extra_inputs/feedstock_type.csv')"
   ]
  },
  {
   "cell_type": "code",
   "execution_count": null,
   "metadata": {
    "pycharm": {
     "name": "#%%\n"
    }
   },
   "outputs": [],
   "source": [
    "# Get emissions for each feedstock\n",
    "years = list(map(str, list(range(1978, 2051))))\n",
    "\n",
    "feedstock_vals = feedstocks.copy()\n",
    "for year in years:\n",
    "    df = feedstock_vals[year]\n",
    "    df['CAPACITY'] = df['CAPACITY'].apply(lambda x: re.sub(\"[^0-9.]\", \"0\", str(x))).astype(float)\n",
    "    df[df.columns[1:]] = df[df.columns[1:]].multiply(df['CAPACITY']/100, axis='index')\n",
    "    feedstock_vals[year] = df\n",
    "\n",
    "feedstock_emissions = eth_conv.merge(feedstock_types, on='ihs_match', how='left').groupby('Feedstock').mean()\n",
    "\n",
    "feedstock_emissions.head()"
   ]
  },
  {
   "cell_type": "code",
   "execution_count": null,
   "metadata": {
    "pycharm": {
     "name": "#%%\n"
    }
   },
   "outputs": [],
   "source": [
    "# Apply emissions to each facility\n",
    "blank = feedstock_vals[feedstock_vals.columns[:7]]\n",
    "blank.columns = list(blank.columns.droplevel(1))\n",
    "conversions = feedstock_emissions.columns[['allocation' in name for name in feedstock_emissions.columns]]\n",
    "\n",
    "for conversion in conversions:\n",
    "    fs_ems = feedstock_emissions[conversion]\n",
    "    each_conv = pd.DataFrame()\n",
    "    for year in years:\n",
    "        df = feedstock_vals[year]\n",
    "        for fs in df.columns[1:]:\n",
    "            df[fs] = df[fs]*fs_ems.loc[fs]\n",
    "        yearly = blank.copy()\n",
    "        yearly['Year'] = year\n",
    "        yearly[conversion] = np.sum(df[df.columns[1:]].values, axis=1)\n",
    "        each_conv = pd.concat((each_conv,yearly), axis=0)\n",
    "    if conversion != conversions[0]:\n",
    "        ethylene_ems = ethylene_ems.merge(each_conv, on=list(each_conv.columns[:8]), how='left')\n",
    "    else: ethylene_ems = each_conv\n",
    "\n",
    "ethylene_ems.head()"
   ]
  },
  {
   "cell_type": "code",
   "execution_count": null,
   "metadata": {
    "pycharm": {
     "name": "#%%\n"
    }
   },
   "outputs": [],
   "source": [
    "# Convert output to facility_emissions format\n",
    "ethylene_conv = ethylene_ems.copy()\n",
    "ethylene_conv.columns = [i.replace(',  allocation ','_').replace('_factor','') for i in ethylene_conv.columns]\n",
    "\n",
    "dbs = ['ihs_cradle-to-out-gate ', 'Raw Material ', 'Indirect Utilities ', 'Direct Utilities ', 'Direct Process ', 'Electricity ']\n",
    "names = ['IHS CtOG', 'Raw Material', 'Indirect Utilities', 'Direct Utilities', 'Direct Process', 'Electricity']\n",
    "emission_val_cols = ['CO2e_20a', 'CO2e_100a', 'Carbon dioxide', 'Carbon monoxide', 'Chloroform', 'Dinitrogen monoxide', 'Ethane', 'Methane', 'Nitric oxide', 'Nitrogen fluoride', 'Perfluoropentane', 'Sulfur hexafluoride', 'Other']\n",
    "\n",
    "base_cols = list(ethylene_conv.columns[:7])\n",
    "\n",
    "ethylene_pivoted = pd.DataFrame()\n",
    "ethylene_piv_sigma = pd.DataFrame()\n",
    "\n",
    "for db, name in zip(dbs, names):\n",
    "    for gas in emission_val_cols:\n",
    "        df = ethylene_conv[base_cols+['Year', db+gas]]\n",
    "        df = df.pivot(index = base_cols, columns = 'Year', values = db+gas)\n",
    "        df.index.name = None\n",
    "        df['Gas'] = gas\n",
    "        df['Type'] = name\n",
    "        ethylene_pivoted = pd.concat((ethylene_pivoted, df), axis = 0)\n",
    "\n",
    "        df_sigma = ethylene_conv[base_cols+['Year', db+gas+'_sigma']]\n",
    "        df_sigma = df_sigma.pivot(index = base_cols, columns = 'Year', values = db+gas+'_sigma')\n",
    "        df_sigma.index.name = None\n",
    "        df_sigma['Gas'] = gas\n",
    "        df_sigma['Type'] = name\n",
    "        ethylene_piv_sigma = pd.concat((ethylene_piv_sigma, df_sigma), axis = 0)\n",
    "\n",
    "ethylene_weighted = ethylene_pivoted.merge(ethylene_piv_sigma, on=base_cols+['Gas', 'Type'], how='left', suffixes=('','_sigma')).reset_index()\n",
    "\n",
    "ethylene_weighted.columns.name = None\n",
    "ethylene_weighted = ethylene_weighted.fillna(0)"
   ]
  },
  {
   "cell_type": "code",
   "execution_count": null,
   "metadata": {
    "pycharm": {
     "name": "#%%\n"
    }
   },
   "outputs": [],
   "source": [
    "# Update ethylene values in facility emissions database\n",
    "facility_emissions = pd.read_parquet(output_path+'icisFacilityEmissions_ihsMean_w_uncertainties_allgases.parquet')\n",
    "\n",
    "emissions_merged = facility_emissions.merge(ethylene_weighted, on=['COUNTRY/TERRITORY', 'STATE', 'COMPANY', 'SITE', '#', 'Gas', 'Type'], how='left', suffixes=('_old','')).drop(columns='START_YR').rename(columns={'START_YR_old':'START_YR'})\n",
    "\n",
    "# years = [str(i) for i in range(1978, 2051)]\n",
    "# years_sigma = [year+'_sigma' for year in years]\n",
    "\n",
    "for year, uncert in zip(years, years_sigma):\n",
    "    emissions_merged[year] = emissions_merged[year].fillna(emissions_merged[year+'_old'])\n",
    "    emissions_merged[uncert] = emissions_merged[uncert].fillna(emissions_merged[uncert+'_old'])\n",
    "\n",
    "facility_emissions_update = emissions_merged.drop(columns=list(emissions_merged.columns[['_old' in i for i in emissions_merged.columns]]) + ['START_MO'])"
   ]
  },
  {
   "cell_type": "code",
   "execution_count": null,
   "metadata": {
    "pycharm": {
     "name": "#%%\n"
    }
   },
   "outputs": [],
   "source": [
    "facility_emissions_update.to_parquet(output_path+'icisFacilityEmissions_ihsWeighted_w_uncertainties_allgases.parquet')"
   ]
  },
  {
   "cell_type": "code",
   "execution_count": null,
   "metadata": {
    "pycharm": {
     "name": "#%%\n"
    }
   },
   "outputs": [],
   "source": [
    "## Utility functions\n",
    "def uncertainty_propagation(calc:str, x:float, dx:float, y:float=1, dy:float=0, z:float=1, propagation_type:str='simple') -> float:\n",
    "    if calc == 'mult':\n",
    "        xdiv = np.divide(dx, x, out=np.zeros_like(dx), where=x!=0)\n",
    "        ydiv = np.divide(dy, y, out=np.zeros_like(dy), where=y!=0)\n",
    "        if propagation_type == 'simple':\n",
    "            return (xdiv + ydiv)*z\n",
    "        elif propagation_type == 'stdev':\n",
    "            return np.sqrt(pow(xdiv,2) + pow(ydiv,2))*z\n",
    "        else: Exception('Specified propagation_type not recognised.')\n",
    "\n",
    "    elif calc == 'add':\n",
    "        if propagation_type == 'simple':\n",
    "            return abs(dx)+abs(dy)\n",
    "        elif propagation_type == 'stdev':\n",
    "            return np.sqrt(pow(dx,2) + pow(dy,2))\n",
    "        else: Exception('Specified propagation_type not recognised.')\n",
    "    else: Exception('Please specify calc of propagation')#%%"
   ]
  },
  {
   "cell_type": "markdown",
   "metadata": {
    "pycharm": {
     "name": "#%% md\n"
    }
   },
   "source": [
    "# All possible facility emissions given different processes for making same product"
   ]
  },
  {
   "cell_type": "code",
   "execution_count": null,
   "metadata": {
    "pycharm": {
     "name": "#%%\n"
    }
   },
   "outputs": [],
   "source": [
    "facility_match = facility_conversion[list(facility_conversion.columns[:list(facility_conversion.columns).index('PROCESS')+2])]"
   ]
  },
  {
   "cell_type": "code",
   "execution_count": null,
   "metadata": {
    "pycharm": {
     "name": "#%%\n"
    }
   },
   "outputs": [],
   "source": [
    "# sort_col = 'ihs_cradle-to-out-gate CO2e_20a,  allocation factor'\n",
    "# min_conv_factors = conv_factors.sort_values(['Product', sort_col]).groupby('Product').head(1).reset_index(drop=True)"
   ]
  },
  {
   "cell_type": "code",
   "execution_count": null,
   "metadata": {
    "pycharm": {
     "name": "#%%\n"
    }
   },
   "outputs": [],
   "source": [
    "facility_min_type = facility_match.drop(columns='PROCESS').merge(conv_factors, on='Product', how='left').drop_duplicates()"
   ]
  },
  {
   "cell_type": "code",
   "execution_count": null,
   "metadata": {
    "pycharm": {
     "name": "#%%\n"
    }
   },
   "outputs": [],
   "source": [
    "emission_val_cols = ['CO2e_20a', 'CO2e_100a']#, 'Carbon dioxide', 'Carbon monoxide', 'Chloroform', 'Dinitrogen monoxide', 'Ethane', 'Methane', 'Nitric oxide', 'Nitrogen fluoride', 'Perfluoropentane', 'Sulfur hexafluoride', 'Other']\n",
    "emission_val_cols_sigma = [col + '_sigma' for col in emission_val_cols]\n",
    "\n",
    "for column, col_sigma in zip(emission_val_cols, emission_val_cols_sigma):\n",
    "    facility_min_type['combined_' + column] = np.nanmean([facility_min_type['ei_' + column + '_cradle-to-gate'], facility_min_type['cm_' + column + '_cradle-to-gate']], axis=0)\n",
    "    facility_min_type['combined_' + col_sigma] = np.nanmean([facility_min_type['ei_' + column + '_cradle-to-gate_sigma'], facility_min_type['cm_' + column + '_cradle-to-gate_sigma']], axis=0)\n",
    "\n",
    "facility_min_type = facility_min_type[facility_min_type.columns[['ei' not in col and 'cm' not in col for col in facility_min_type.columns]]]\n",
    "\n",
    "facility_min_type.columns = [i.replace(',  allocation factor','').replace(',  allocation sigma','_sigma') for i in facility_min_type.columns]\n",
    "\n",
    "facility_min_type.rename(columns={'ihs_match':'PROCESS'}, inplace=True)"
   ]
  },
  {
   "cell_type": "code",
   "execution_count": null,
   "metadata": {
    "pycharm": {
     "name": "#%%\n"
    }
   },
   "outputs": [],
   "source": [
    "# Calculate facility emissions for\n",
    "dbs = ['combined_', 'Raw Material ', 'Indirect Utilities ', 'Direct Utilities ', 'Direct Process ', 'Electricity ']\n",
    "names = ['EI & CM', 'Raw Material', 'Indirect Utilities', 'Direct Utilities', 'Direct Process', 'Electricity']\n",
    "\n",
    "# Create base dataframe to use\n",
    "years = [str(i) for i in range(1978, 2051)]\n",
    "years_sigma = [year+'_sigma' for year in years]\n",
    "base_columns = ['PRODUCT', 'COUNTRY/TERRITORY', 'STATE', 'COMPANY', 'SITE', '#',\n",
    "       'ROUTE', 'TECHNOLOGY', 'LICENSOR', 'START_YR', 'COMPLEX', 'LATITUDE', 'LONGITUDE', 'PROCESS'] + years + years_sigma\n",
    "base_df = facility_min_type[base_columns]\n",
    "\n",
    "facility_mins = pd.DataFrame()\n",
    "for db, name in tqdm(zip(dbs, names)):\n",
    "    for gas in tqdm(emission_val_cols):\n",
    "        df = base_df.copy()\n",
    "        df[years] = df[years].multiply(facility_min_type[db+gas], axis='index')\n",
    "        ## Incorrect error propagation here\n",
    "        df[years_sigma] = df[years_sigma].multiply(facility_min_type[db+gas+'_sigma'], axis='index')\n",
    "        df['Gas'] = gas\n",
    "        df['Type'] = name\n",
    "        facility_mins = pd.concat((facility_mins, df), axis = 0)"
   ]
  },
  {
   "cell_type": "code",
   "execution_count": null,
   "metadata": {
    "pycharm": {
     "name": "#%%\n"
    }
   },
   "outputs": [],
   "source": [
    "# Save as parquet file for large size\n",
    "facility_mins.to_parquet(output_path+'icisFacilityEmissions_ihsAllPossible_w_uncertainties.parquet')"
   ]
  },
  {
   "cell_type": "code",
   "execution_count": null,
   "metadata": {
    "pycharm": {
     "name": "#%%\n"
    }
   },
   "outputs": [],
   "source": []
  }
 ],
 "metadata": {
  "kernelspec": {
   "display_name": "Python 3 (ipykernel)",
   "language": "python",
   "name": "python3"
  },
  "language_info": {
   "codemirror_mode": {
    "name": "ipython",
    "version": 3
   },
   "file_extension": ".py",
   "mimetype": "text/x-python",
   "name": "python",
   "nbconvert_exporter": "python",
   "pygments_lexer": "ipython3",
   "version": "3.8.8"
  },
  "toc": {
   "base_numbering": 1,
   "nav_menu": {},
   "number_sections": true,
   "sideBar": true,
   "skip_h1_title": false,
   "title_cell": "Table of Contents",
   "title_sidebar": "Contents",
   "toc_cell": false,
   "toc_position": {},
   "toc_section_display": true,
   "toc_window_display": false
  }
 },
 "nbformat": 4,
 "nbformat_minor": 1
}
