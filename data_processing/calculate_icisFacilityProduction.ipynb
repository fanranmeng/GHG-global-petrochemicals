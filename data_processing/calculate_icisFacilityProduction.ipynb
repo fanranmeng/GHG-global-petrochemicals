{
 "cells": [
  {
   "cell_type": "markdown",
   "metadata": {},
   "source": [
    "# Distribution of production to all facilities\n",
    "\n",
    "Assumptions -> Each facility (within product and territory group) is producing at same rate of it's capacity\n",
    "\n",
    "Caveats -> Allocating production for FORMER USSR to RUSSIAN FEDERATION, FORMER CZECHOSLOVAKIA TO CZECH REPUBLIC, FORMER YUGOSLAVIA TO SERBIA/MONTENEGRO/KOSOVO\n",
    "-> Not using specific routes stated in production as they do not match-up with capacity routes"
   ]
  },
  {
   "cell_type": "code",
   "execution_count": null,
   "metadata": {
    "pycharm": {
     "name": "#%%\n"
    }
   },
   "outputs": [],
   "source": [
    "import pandas as pd\n",
    "\n",
    "filepath = \"D:/data/ICIS_data/facility_stats/to_2050/\"\n",
    "output_path = '../data/processed/'"
   ]
  },
  {
   "cell_type": "code",
   "execution_count": null,
   "metadata": {
    "pycharm": {
     "name": "#%%\n"
    }
   },
   "outputs": [],
   "source": [
    "## Data filtering\n",
    "# Import ICIS data for facilities and production\n",
    "capacity, production = [pd.read_csv(filepath+file, low_memory=False, index_col=0) for file in ['capacity.csv', 'production.csv']]\n",
    "\n",
    "# Distribute production amongst facilities according to capacities\n",
    "years = list(map(str, list(range(1978, 2051))))\n",
    "capacity_filt = capacity.dropna(axis=1, how='all').replace('-',0).fillna(0)\n",
    "capacity_filt[years] = capacity_filt[years].astype(float)\n",
    "\n",
    "# Fix production names\n",
    "name_dict = {'FORMER USSR':'RUSSIAN FEDERATION', 'FORMER CZECHOSLOVAKIA':'CZECH REPUBLIC', 'FORMER YUGOSLAVIA': 'SERBIA/MONTENEGRO/KOSOVO'}\n",
    "production['COUNTRY/TERRITORY'] = production['COUNTRY/TERRITORY'].replace(name_dict)\n",
    "production_filt = production.dropna(axis=1, how='all').replace('-',0).fillna(0)\n",
    "production_filt[years] = production_filt[years].astype(float)"
   ]
  },
  {
   "cell_type": "code",
   "execution_count": null,
   "metadata": {
    "pycharm": {
     "name": "#%%\n"
    }
   },
   "outputs": [],
   "source": [
    "# Get proportion of capacity that each facility represents per product/country\n",
    "grouping_cols = ['PRODUCT', 'COUNTRY/TERRITORY']\n",
    "capacity_totals = capacity_filt.groupby(grouping_cols).sum()\n",
    "capacity_props = capacity_filt.merge(capacity_totals[years], on=grouping_cols, how='left')\n",
    "x_cols, y_cols = [[str(i)+addition for i in years] for addition in ['_x', '_y']]\n",
    "\n",
    "for year, x_col, y_col in zip(years, x_cols, y_cols):\n",
    "    capacity_props[year] = capacity_props[x_col]/capacity_props[y_col]\n",
    "capacity_props = capacity_props[list(capacity_props.columns[:14])+years].fillna(0)\n",
    "\n",
    "# Get production per grouping columns\n",
    "production_totals = production_filt[grouping_cols+years].groupby(grouping_cols).sum().reset_index()\n",
    "\n",
    "# Get production per facility\n",
    "facility_production = capacity_props.merge(production_totals, on=grouping_cols, how='left')\n",
    "for year, x_col, y_col in zip(years, x_cols, y_cols):\n",
    "    facility_production[year] = facility_production[x_col]*facility_production[y_col]\n",
    "facility_production = facility_production[list(facility_production.columns[:14])+years].fillna(0)"
   ]
  },
  {
   "cell_type": "code",
   "execution_count": null,
   "metadata": {
    "pycharm": {
     "name": "#%%\n"
    }
   },
   "outputs": [],
   "source": [
    "facility_production.to_csv(output_path+'icisFacilityProduction.csv')"
   ]
  },
  {
   "cell_type": "code",
   "execution_count": null,
   "metadata": {
    "pycharm": {
     "name": "#%%\n"
    }
   },
   "outputs": [],
   "source": [
    "## Add uncertainties\n",
    "production_uncertainty = 0.1\n",
    "facility_production = pd.read_csv(output_path+'icisFacilityProduction.csv', index_col=0)\n",
    "\n",
    "years = list(map(str, list(range(1978, 2051))))\n",
    "for col in years:\n",
    "    facility_production[col+'_sigma'] = facility_production[col]*production_uncertainty\n",
    "\n",
    "facility_production.to_csv(output_path+'icisFacilityProduction_w_uncertainties.csv')"
   ]
  }
 ],
 "metadata": {
  "kernelspec": {
   "display_name": "Python 3 (ipykernel)",
   "language": "python",
   "name": "python3"
  },
  "language_info": {
   "codemirror_mode": {
    "name": "ipython",
    "version": 3
   },
   "file_extension": ".py",
   "mimetype": "text/x-python",
   "name": "python",
   "nbconvert_exporter": "python",
   "pygments_lexer": "ipython3",
   "version": "3.8.8"
  },
  "toc": {
   "base_numbering": 1,
   "nav_menu": {},
   "number_sections": true,
   "sideBar": true,
   "skip_h1_title": false,
   "title_cell": "Table of Contents",
   "title_sidebar": "Contents",
   "toc_cell": false,
   "toc_position": {},
   "toc_section_display": true,
   "toc_window_display": false
  }
 },
 "nbformat": 4,
 "nbformat_minor": 1
}
