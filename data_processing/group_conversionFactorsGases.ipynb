{
 "cells": [
  {
   "cell_type": "markdown",
   "metadata": {
    "pycharm": {
     "name": "#%% md\n"
    }
   },
   "source": [
    "# Group conversion factors for all outputs into relevant gases"
   ]
  },
  {
   "cell_type": "code",
   "execution_count": 4,
   "metadata": {
    "pycharm": {
     "name": "#%%\n"
    }
   },
   "outputs": [],
   "source": [
    "# Import packages\n",
    "\n",
    "import numpy as np\n",
    "import pandas as pd"
   ]
  },
  {
   "cell_type": "code",
   "execution_count": 5,
   "metadata": {
    "pycharm": {
     "name": "#%%\n"
    }
   },
   "outputs": [],
   "source": [
    "# Define paths\n",
    "input_path = '../data/'\n",
    "ecoInvent_files = [input_path+'extracted/conversionFactors_from_ecoinvent_IPCC2013_w_uncertainties.csv']\n",
    "carbonMinds_files = [input_path+'extracted/conversionFactors_from_CarbonMinds_IPCC2013_w_uncertainties.csv']\n",
    "\n",
    "output_path = '../data/processed/'"
   ]
  },
  {
   "cell_type": "code",
   "execution_count": null,
   "metadata": {
    "pycharm": {
     "name": "#%%\n"
    },
    "scrolled": true
   },
   "outputs": [],
   "source": [
    "# EcoInvent + CarbonMinds -> Emissions\n",
    "def import_emissions(files, source_name, region_names=False):\n",
    "    emissions = pd.DataFrame()\n",
    "    for file in files:\n",
    "        emissions = pd.concat([emissions, pd.read_csv(file)])\n",
    "\n",
    "    emissions = emissions.drop(columns=['Unnamed: 0']).rename(columns={'name': 'Source', 'CO2e': 'Cradle-to-gate'})\n",
    "    emissions['Provenance'] = source_name\n",
    "\n",
    "    if region_names is not False:\n",
    "        # Get relevant values for region\n",
    "        located = pd.DataFrame()\n",
    "        for code in region_names:\n",
    "            located = pd.concat([located, emissions[emissions['location']==code]])\n",
    "        return located.groupby(['Source']).first().reset_index()\n",
    "\n",
    "    else: return emissions\n",
    "\n",
    "regions = ['GLO', 'GB', 'RER', 'RoW']\n",
    "ei_emissions = import_emissions(ecoInvent_files, 'EcoInvent 3.8', regions)\n",
    "cm_emissions = import_emissions(carbonMinds_files, 'Carbon Minds', regions)\n",
    "\n",
    "# Groupings\n",
    "emission_types = ['CO2e_20a', 'CO2e_100a', 'Carbon dioxide', 'Carbon monoxide', 'Chloroform', 'Dinitrogen monoxide', 'Ethane', 'Methane', 'Nitric oxide', 'Nitrogen fluoride', 'Perfluoropentane', 'Sulfur hexafluoride', 'Other']\n",
    "emission_groups = [['CO2e_20a'], ['CO2e_100a'], ['Carbon dioxide, fossil', 'Carbon dioxide, from soil or biomass stock', 'Carbon dioxide, land transformation', 'Carbon dioxide, to soil or biomass stock'], ['Carbon monoxide, biogenic', 'Carbon monoxide, fossil', 'Carbon monoxide, from soil or biomass stock', 'Carbon monoxide, non-fossil'], ['Chloroform'], ['Dinitrogen monoxide'], ['Ethane, 1,1,1,2-tetrafluoro-, HFC-134a', 'Ethane, 1,1,1-trichloro-, HCFC-140', 'Ethane, 1,1,1-trifluoro-, HFC-143a', 'Ethane, 1,1,2-trichloro-1,2,2-trifluoro-, CFC-113', 'Ethane, 1,1-dichloro-1-fluoro-, HCFC-141b', 'Ethane, 1,1-difluoro-, HFC-152a', 'Ethane, 1,2-dichloro-', 'Ethane, 1,2-dichloro-1,1,2,2-tetrafluoro-, CFC-114', 'Ethane, 1-chloro-1,1-difluoro-, HCFC-142b', 'Ethane, 2,2-dichloro-1,1,1-trifluoro-, HCFC-123',  'Ethane, 2-chloro-1,1,1,2-tetrafluoro-, HCFC-124', 'Ethane, chloropentafluoro-, CFC-115', 'Ethane, hexafluoro-, HFC-116', 'Ethane, pentafluoro-, HFC-125'], ['Methane', 'Methane, biogenic', 'Methane, bromo-, Halon 1001', 'Methane, bromochlorodifluoro-, Halon 1211', 'Methane, bromotrifluoro-, Halon 1301','Methane, chlorodifluoro-, HCFC-22', 'Methane, chlorotrifluoro-, CFC-13', 'Methane, dichloro-, HCC-30', 'Methane, dichlorodifluoro-, CFC-12', 'Methane, dichlorofluoro-, HCFC-21', 'Methane, difluoro-, HFC-32', 'Methane, fossil', 'Methane, from soil or biomass stock', 'Methane, monochloro-, R-40', 'Methane, non-fossil', 'Methane, tetrachloro-, CFC-10', 'Methane, tetrachloro-, R-10', 'Methane, tetrafluoro-, R-14', 'Methane, trichlorofluoro-, CFC-11', 'Methane, trifluoro-, HFC-23'], ['Nitric oxide'], ['Nitrogen fluoride'], ['Perfluoropentane'], ['Sulfur hexafluoride'], ['VOC, volatile organic compounds, unspecified origin']]\n",
    "\n",
    "for type, cols in zip(emission_types, emission_groups):\n",
    "    ei_emissions[type] = np.sum(ei_emissions[cols], axis=1)\n",
    "    ei_emissions[type+'_sigma'] = np.sum(ei_emissions[[col+'_sigma' for col in cols]], axis=1)\n",
    "    cm_emissions[type] = np.sum(cm_emissions[cols], axis=1)\n",
    "    cm_emissions[type+'_sigma'] = np.sum(cm_emissions[[col+'_sigma' for col in cols]], axis=1)\n",
    "ei_emissions = ei_emissions[list(ei_emissions.columns[:3])+emission_types+[i+'_sigma' for i in emission_types]]\n",
    "cm_emissions = cm_emissions[list(cm_emissions.columns[:3])+emission_types+[i+'_sigma' for i in emission_types]]\n",
    "\n",
    "cm_emissions.head()"
   ]
  },
  {
   "cell_type": "code",
   "execution_count": 18,
   "metadata": {
    "pycharm": {
     "name": "#%%\n"
    }
   },
   "outputs": [],
   "source": [
    "# Output to file\n",
    "ei_emissions.to_csv(output_path+'conversionFactors_ecoinvent_grouped.csv')\n",
    "cm_emissions.to_csv(output_path+'conversionFactors_carbonMinds_grouped.csv')"
   ]
  },
  {
   "cell_type": "code",
   "execution_count": null,
   "metadata": {
    "pycharm": {
     "name": "#%%\n"
    }
   },
   "outputs": [],
   "source": []
  }
 ],
 "metadata": {
  "kernelspec": {
   "display_name": "Python 3 (ipykernel)",
   "language": "python",
   "name": "python3"
  },
  "language_info": {
   "codemirror_mode": {
    "name": "ipython",
    "version": 3
   },
   "file_extension": ".py",
   "mimetype": "text/x-python",
   "name": "python",
   "nbconvert_exporter": "python",
   "pygments_lexer": "ipython3",
   "version": "3.8.8"
  },
  "toc": {
   "base_numbering": 1,
   "nav_menu": {},
   "number_sections": true,
   "sideBar": true,
   "skip_h1_title": false,
   "title_cell": "Table of Contents",
   "title_sidebar": "Contents",
   "toc_cell": false,
   "toc_position": {},
   "toc_section_display": true,
   "toc_window_display": false
  }
 },
 "nbformat": 4,
 "nbformat_minor": 1
}
