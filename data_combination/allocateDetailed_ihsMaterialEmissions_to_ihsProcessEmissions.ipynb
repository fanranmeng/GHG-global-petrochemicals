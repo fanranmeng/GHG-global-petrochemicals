{
 "cells": [
  {
   "cell_type": "markdown",
   "metadata": {
    "pycharm": {
     "name": "#%% md\n"
    }
   },
   "source": [
    "# Allocate emissions for IHS processes and calculate implied conversion factors"
   ]
  },
  {
   "cell_type": "code",
   "execution_count": 1,
   "metadata": {
    "pycharm": {
     "name": "#%%\n"
    },
    "scrolled": true
   },
   "outputs": [],
   "source": [
    "# Import packages\n",
    "import itertools\n",
    "import numpy as np\n",
    "import pandas as pd\n",
    "\n",
    "pd.set_option('max_columns', None)\n",
    "pd.options.mode.chained_assignment = None"
   ]
  },
  {
   "cell_type": "markdown",
   "metadata": {
    "pycharm": {
     "name": "#%% md\n"
    }
   },
   "source": [
    "## Data imports"
   ]
  },
  {
   "cell_type": "code",
   "execution_count": 2,
   "metadata": {
    "pycharm": {
     "name": "#%%\n"
    },
    "scrolled": true
   },
   "outputs": [],
   "source": [
    "input_path = '../data/'\n",
    "\n",
    "material_emissions_path = input_path+'combined/ihsMaterialsEmissions_w_uncertainties.csv'\n",
    "ei_emissions_path = input_path+'processed/conversionFactors_ecoinvent_grouped.csv'\n",
    "\n",
    "\n",
    "output_path = '../data/combined/'"
   ]
  },
  {
   "cell_type": "code",
   "execution_count": null,
   "metadata": {
    "pycharm": {
     "name": "#%%\n"
    },
    "scrolled": true
   },
   "outputs": [],
   "source": [
    "material_emissions = pd.read_csv(material_emissions_path, index_col=0)\n",
    "\n",
    "material_emissions.head()"
   ]
  },
  {
   "cell_type": "code",
   "execution_count": 7,
   "metadata": {
    "pycharm": {
     "name": "#%%\n"
    },
    "scrolled": true
   },
   "outputs": [],
   "source": [
    "# material_emissions = material_emissions[material_emissions['Target/Process']=='ETHYLENE FROM 50:50 ETHANE:PROPANE MIX']"
   ]
  },
  {
   "cell_type": "markdown",
   "metadata": {
    "pycharm": {
     "name": "#%% md\n"
    }
   },
   "source": [
    "## Allocate emissions"
   ]
  },
  {
   "cell_type": "code",
   "execution_count": 8,
   "metadata": {
    "pycharm": {
     "name": "#%%\n"
    },
    "scrolled": true
   },
   "outputs": [],
   "source": [
    "## Functions to allocate emissions from materials to products output from IHS recipes\n",
    "\n",
    "def uncertainty_propagation(calc:str, x:float, dx:float, y:float=1, dy:float=0, z:float=1, propagation_type:str='simple') -> float:\n",
    "    \"\"\"This function calculates uncertainty dz given x, y, dx, dy and z\"\"\"\n",
    "    if calc == 'mult':\n",
    "        xdiv = np.divide(dx, x, out=np.zeros_like(dx), where=x!=0)\n",
    "        ydiv = np.divide(dy, y, out=np.zeros_like(dy), where=y!=0)\n",
    "        if propagation_type == 'simple':\n",
    "            return (xdiv + ydiv)*z\n",
    "        elif propagation_type == 'stdev':\n",
    "            return np.sqrt(pow(xdiv,2) + pow(ydiv,2))*z\n",
    "        else: Exception('Specified propagation_type not recognised.')\n",
    "\n",
    "    elif calc == 'add':\n",
    "        if propagation_type == 'simple':\n",
    "            return abs(dx)+abs(dy)\n",
    "        elif propagation_type == 'stdev':\n",
    "            return np.sqrt(pow(dx,2) + pow(dy,2))\n",
    "        else: Exception('Specified propagation_type not recognised.')\n",
    "    else: Exception('Please specify calc of propagation')"
   ]
  },
  {
   "cell_type": "code",
   "execution_count": 9,
   "metadata": {
    "pycharm": {
     "name": "#%%\n"
    },
    "scrolled": true
   },
   "outputs": [],
   "source": [
    "def filter_df_for_type(df, types, type_col):\n",
    "    return df[[i in types for i in df[type_col]]]\n",
    "\n",
    "def calculate_type_emissions(materials_df, product_df, emission_types:list, group_name:str, emissions_cols:list, emissions_cols_sigma:list, emission_val_cols:list, product_ratio_col, product_value_col, emission_type_col = 'Type'):\n",
    "\n",
    "    # Impose lists\n",
    "    if type(emission_type_col) is str:\n",
    "        emission_type_col = [emission_type_col]\n",
    "        emission_types = [emission_types]\n",
    "    if type(emission_types) is str:\n",
    "        emission_types = [emission_types]\n",
    "\n",
    "    # Sum for groups\n",
    "    grouped_df, grouped_df_sigma = materials_df.copy(), materials_df.copy()\n",
    "\n",
    "    for emission_type_list, col in zip(emission_types, emission_type_col):\n",
    "        if grouped_df.empty is False:\n",
    "            grouped_df = filter_df_for_type(grouped_df, emission_type_list, col)\n",
    "\n",
    "    group_ems = np.sum(grouped_df[emissions_cols])\n",
    "    group_ems_sigma = np.sum(grouped_df[emissions_cols_sigma])\n",
    "\n",
    "    # Loop through each value/gas column\n",
    "    for val_column, gas_column, val_column_sigma, gas_column_sigma in zip(emission_val_cols, emissions_cols, [col + '_sigma' for col in emission_val_cols], emissions_cols_sigma):\n",
    "        # Allocate emissions for value and uncertainty\n",
    "        product_df[group_name+' allocated ' + val_column] = group_ems[gas_column]*product_df[product_ratio_col]\n",
    "        product_df[group_name+' allocated ' + val_column_sigma] = uncertainty_propagation('mult', group_ems[gas_column], group_ems_sigma[gas_column_sigma], product_df[product_ratio_col], product_df[product_ratio_col+'_sigma'], z=product_df[group_name+' allocated ' + val_column])\n",
    "\n",
    "        # Calculate emissions intensity for values and uncertainty\n",
    "        product_df[group_name+' unit emission intensity ' + val_column] = product_df[group_name+' allocated ' + val_column]/product_df[product_value_col]\n",
    "        product_df[group_name+' unit emission intensity ' + val_column_sigma] = uncertainty_propagation('mult', product_df[group_name+' allocated ' + val_column], product_df[group_name+' allocated ' + val_column_sigma], product_df[product_value_col], product_df[product_value_col+'_sigma'], z=product_df[group_name+' unit emission intensity ' + val_column])\n",
    "\n",
    "    return product_df"
   ]
  },
  {
   "cell_type": "code",
   "execution_count": 25,
   "metadata": {
    "pycharm": {
     "name": "#%%\n"
    },
    "scrolled": true
   },
   "outputs": [],
   "source": [
    "from tqdm import tqdm\n",
    "def allocate_emissions(df:pd.DataFrame, emission_val_cols:list, mass_to_other_convs=False, mass_to_other_uncertainty=0.01, value_col= 'Mass, kg', ratio_col = 'Mass ratio', unit='kg'):\n",
    "    # Get inputs to products\n",
    "    df_ins = df[df['Type']!='By-Product']\n",
    "    for column in emission_val_cols:\n",
    "        df_ins['combined_' + column] = np.nanmean([df_ins['ei_' + column + '_cradle-to-gate'], df_ins['cm_' + column + '_cradle-to-gate']], axis=0)\n",
    "        df_ins['combined_' + column + '_sigma'] = np.nanmean([df_ins['ei_' + column + '_cradle-to-gate_sigma'], df_ins['cm_' + column + '_cradle-to-gate_sigma']], axis=0)\n",
    "    combined_cols = ['combined_' + column for column in emission_val_cols]\n",
    "    combined_cols_sigma = ['combined_' + column + '_sigma' for column in emission_val_cols]\n",
    "\n",
    "    allocation = pd.DataFrame()\n",
    "\n",
    "    # Loop through each process\n",
    "    for code in tqdm(df['Code'].unique()):\n",
    "\n",
    "        # Get by-products and mass ratios\n",
    "        temp = df[df['Code']==code][['Code', 'Data Version', 'Source/Object', 'Type', 'Target/Process', 'Research Year', 'Country/Reg', 'Product', 'Value', 'Value unit', 'Value_sigma', 'Capacity unit', 'MeasType', 'Provenance']]\n",
    "        a = temp.iloc[0]\n",
    "        a['Source/Object'], a['Type'], a['Value'], a['Value unit'], a['Value_sigma'] = a['Product'], 'Product', float(1), 'kg/kg', float(0)\n",
    "        a = pd.DataFrame(a.values.reshape(1,-1), columns=a.index)\n",
    "        temp = temp[temp['Type']=='By-Product']\n",
    "        temp = pd.concat([temp, a], axis=0)\n",
    "\n",
    "        # Convert values to energy if conversion exists in mass_to_enrgy_convs file\n",
    "        if mass_to_other_convs is not False:\n",
    "            # value_col, ratio_col, unit = 'Energy, MJ', 'Energy ratio', 'MJ'\n",
    "            temp = temp.merge(mass_to_other_convs, how='left', left_on='Source/Object', right_on=mass_to_other_convs['Product'].str.upper())\n",
    "            if temp['Conversion'].isnull().values.any():\n",
    "                continue\n",
    "            else:\n",
    "                temp[value_col] = temp['Conversion']*abs(temp['Value'])\n",
    "                temp[value_col+'_sigma'] = uncertainty_propagation('mult', abs(temp['Value']), temp['Value_sigma'], temp['Conversion'], mass_to_other_uncertainty*temp['Conversion'], z=temp[value_col])\n",
    "\n",
    "        else:\n",
    "            #value_col, ratio_col, unit = 'Mass, kg', 'Mass ratio', 'kg'\n",
    "            temp[value_col] = abs(temp['Value'])\n",
    "            temp[value_col+'_sigma'] = temp['Value_sigma']\n",
    "\n",
    "        # Get ratio of product vs all products+by-products\n",
    "        temp[ratio_col] = temp[value_col]/sum(temp[value_col])\n",
    "        temp[ratio_col+'_sigma'] = uncertainty_propagation('mult', temp[value_col], temp[value_col+'_sigma'], sum(temp[value_col]), sum(temp[value_col+'_sigma']), z=temp[ratio_col])\n",
    "        ### -> Assumption of adding uncertainties together for sum(temp[value_col+'_sigma'])\n",
    "\n",
    "        # Get process emissions & allocate\n",
    "        used_mats = df_ins[df_ins['Code']==code]\n",
    "\n",
    "        #unique_types = list(used_mats['Type'].unique())\n",
    "        # group_names = ['Total', 'CtG', 'GtG'] + unique_types\n",
    "        # types_lists = [unique_types, ['Raw Material'], [x for x in unique_types if x!='Raw Material']]+unique_types\n",
    "\n",
    "        # for group_name, types in zip(group_names, types_lists):\n",
    "        #     temp = calculate_type_emissions(used_mats, temp, types, group_name, combined_cols, combined_cols_sigma, emission_val_cols, ratio_col, value_col)\n",
    "        #\n",
    "        # temp = calculate_type_emissions(used_mats, temp, [['Indirect Utilities'], ['ELECTRICITY']], 'Electricity', combined_cols, combined_cols_sigma, emission_val_cols, ratio_col, value_col, emission_type_col = ['Type', 'Source/Object'])\n",
    "\n",
    "        group_names = used_mats[['Source/Object', 'Type']].drop_duplicates().reset_index(drop=True)\n",
    "\n",
    "            #list(used_mats['Source/Object'].unique())\n",
    "        for group_name in group_names.iloc:\n",
    "            group_name = list(group_name)\n",
    "        #     temp = calculate_type_emissions(used_mats, temp, types, group_name, combined_cols, combined_cols_sigma, emission_val_cols, ratio_col, value_col)\n",
    "            temp = calculate_type_emissions(used_mats, temp, group_name, str(group_name), combined_cols, combined_cols_sigma, emission_val_cols, ratio_col, value_col, emission_type_col = ['Source/Object', 'Type'])\n",
    "\n",
    "        # Identify missing material emissions\n",
    "        temp['Missing raw materials (>1% mass)'] = str(used_mats[(used_mats['Type']=='Raw Material') & (str(used_mats[combined_cols[0]])=='nan') & (used_mats['Value']> 0.01*np.sum(used_mats['Value']))]['Source/Object'].tolist())\n",
    "\n",
    "        # Identify missing utility emissions\n",
    "        temp['Missing utilities'] = str(used_mats[(used_mats['Type']=='Utilities') & (str(used_mats[combined_cols[0]])=='nan')]['Source/Object'].tolist())\n",
    "\n",
    "        # Add current product to allocation list\n",
    "        allocation = pd.concat([allocation, temp], axis=0)\n",
    "\n",
    "    return allocation\n",
    "    #return allocation"
   ]
  },
  {
   "cell_type": "code",
   "execution_count": 26,
   "metadata": {
    "pycharm": {
     "name": "#%%\n"
    },
    "scrolled": true
   },
   "outputs": [
    {
     "name": "stderr",
     "output_type": "stream",
     "text": [
      "C:\\Users\\lukec\\AppData\\Local\\Temp/ipykernel_4296/1713945864.py:6: RuntimeWarning: Mean of empty slice\n",
      "  df_ins['combined_' + column] = np.nanmean([df_ins['ei_' + column + '_cradle-to-gate'], df_ins['cm_' + column + '_cradle-to-gate']], axis=0)\n",
      "C:\\Users\\lukec\\AppData\\Local\\Temp/ipykernel_4296/1713945864.py:7: RuntimeWarning: Mean of empty slice\n",
      "  df_ins['combined_' + column + '_sigma'] = np.nanmean([df_ins['ei_' + column + '_cradle-to-gate_sigma'], df_ins['cm_' + column + '_cradle-to-gate_sigma']], axis=0)\n",
      "100%|██████████| 1/1 [00:00<00:00,  9.08it/s]\n"
     ]
    }
   ],
   "source": [
    "keep_all = False\n",
    "\n",
    "ei_emissions = pd.read_csv(ei_emissions_path, index_col=0)\n",
    "if keep_all:\n",
    "    emission_val_cols = list(ei_emissions.columns[3:16])\n",
    "    emission_val_cols_sigma = list(ei_emissions.columns[16:])\n",
    "else:\n",
    "    emission_val_cols = list(ei_emissions.columns[3:5])\n",
    "    emission_val_cols_sigma = list(ei_emissions.columns[16:18])\n",
    "\n",
    "\n",
    "# Mass allocation\n",
    "mass_allocation = allocate_emissions(material_emissions, emission_val_cols)"
   ]
  },
  {
   "cell_type": "code",
   "execution_count": 34,
   "metadata": {
    "pycharm": {
     "name": "#%%\n"
    },
    "scrolled": true
   },
   "outputs": [],
   "source": [
    "mass_allocation.to_parquet(output_path+'ihsProcessEmissions_decomposition_tempfile-2000.parquet')"
   ]
  },
  {
   "cell_type": "code",
   "execution_count": 35,
   "metadata": {
    "pycharm": {
     "name": "#%%\n"
    },
    "scrolled": true
   },
   "outputs": [],
   "source": [
    "mass_all_1 = pd.read_parquet(output_path+'ihsProcessEmissions_decomposition_tempfile-1000.parquet')#, index_col=0)"
   ]
  },
  {
   "cell_type": "code",
   "execution_count": 4,
   "metadata": {
    "pycharm": {
     "name": "#%%\n"
    },
    "scrolled": true
   },
   "outputs": [],
   "source": [
    "mass_all_2 = pd.read_parquet(output_path+'ihsProcessEmissions_decomposition_tempfile-2000.parquet')#, index_col=0)"
   ]
  },
  {
   "cell_type": "code",
   "execution_count": null,
   "metadata": {
    "pycharm": {
     "name": "#%%\n"
    },
    "scrolled": true
   },
   "outputs": [],
   "source": [
    "mass_all_1.head()"
   ]
  },
  {
   "cell_type": "code",
   "execution_count": null,
   "metadata": {
    "pycharm": {
     "name": "#%%\n"
    },
    "scrolled": false
   },
   "outputs": [],
   "source": [
    "mass_allocation.head()"
   ]
  },
  {
   "cell_type": "code",
   "execution_count": 38,
   "metadata": {
    "pycharm": {
     "name": "#%%\n"
    },
    "scrolled": true
   },
   "outputs": [],
   "source": [
    "mass_allocation = pd.concat((mass_all_1, mass_allocation))"
   ]
  },
  {
   "cell_type": "code",
   "execution_count": null,
   "metadata": {
    "pycharm": {
     "name": "#%%\n"
    },
    "scrolled": true
   },
   "outputs": [],
   "source": [
    "del mass_all_1\n",
    "del mass_all_2"
   ]
  },
  {
   "cell_type": "code",
   "execution_count": 40,
   "metadata": {
    "pycharm": {
     "name": "#%%\n"
    },
    "scrolled": true
   },
   "outputs": [],
   "source": [
    "index_cols = list(mass_allocation.columns[:18])+['Missing raw materials (>1% mass)', 'Missing utilities']\n",
    "mass_filt = mass_allocation[index_cols+list(mass_allocation.columns[18:][['allocated' in i for i in mass_allocation.columns[18:]]])]\n",
    "mass_filt = mass_filt[mass_filt['Type']=='Product']\n",
    "mass_melt = mass_filt.melt(id_vars=index_cols, var_name='Emission source', value_name='value').dropna(subset=['value'])\n",
    "mass_melt = mass_melt[mass_melt['value'] != 0]\n",
    "mass_melt['Material'] = [i.split(',')[0][2:-1] for i in mass_melt['Emission source']]\n",
    "mass_melt['Material Type'] = [i.split(',')[1].split(']')[0][2:-1] for i in mass_melt['Emission source']]\n",
    "mass_melt['Gas'] = [i.split('allocated ')[1] for i in mass_melt['Emission source']]"
   ]
  },
  {
   "cell_type": "code",
   "execution_count": 41,
   "metadata": {
    "pycharm": {
     "name": "#%%\n"
    },
    "scrolled": true
   },
   "outputs": [],
   "source": [
    "mass_melt['Material'] = [i.replace('\"', \"'\").split(\"', '\")[0][2:] for i in mass_melt['Emission source']]\n",
    "mass_melt['Material Type'] = [i.replace('\"', \"'\").split(\"', '\")[1].split(']')[0][:-1] for i in mass_melt['Emission source']]\n",
    "mass_melt['Gas'] = [i.split('allocated ')[1] for i in mass_melt['Emission source']]"
   ]
  },
  {
   "cell_type": "code",
   "execution_count": 42,
   "metadata": {
    "pycharm": {
     "name": "#%%\n"
    },
    "scrolled": true
   },
   "outputs": [],
   "source": [
    "mass_melt.to_csv(output_path+'ihsProcessEmissions_decomposition_mass.csv')"
   ]
  },
  {
   "cell_type": "code",
   "execution_count": 14,
   "metadata": {
    "pycharm": {
     "name": "#%%\n"
    },
    "scrolled": true
   },
   "outputs": [],
   "source": [
    "# Integrate IFA conversion factors\n",
    "ifa_factors = pd.read_csv(input_path+'extracted/conversionFactors_from_IFA.csv', index_col=0)\n",
    "ifa_factors['Product'] = ifa_factors['Product'].str.upper()\n",
    "ifa_matches = pd.read_csv(input_path+'extra_inputs/ifa_matches.csv')\n",
    "ifa_factors = ifa_factors.merge(ifa_matches.dropna(), on='Product', how='right').drop(columns='Product').rename(columns={'Match':'Product'})\n",
    "\n",
    "combined_factors = combined_factors.merge(ifa_factors, on='Product', how='left')"
   ]
  },
  {
   "cell_type": "code",
   "execution_count": 15,
   "metadata": {
    "pycharm": {
     "name": "#%%\n"
    },
    "scrolled": true
   },
   "outputs": [],
   "source": [
    "# Output file\n",
    "combined_factors.sort_values('Product').to_csv(output_path+'processConversionFactors_w_elec_allgases_allalloc.csv', index=False)"
   ]
  },
  {
   "cell_type": "code",
   "execution_count": null,
   "metadata": {
    "pycharm": {
     "name": "#%%\n"
    },
    "scrolled": false
   },
   "outputs": [],
   "source": [
    "combined_factors.sort_values('Product')"
   ]
  },
  {
   "cell_type": "code",
   "execution_count": null,
   "metadata": {
    "pycharm": {
     "name": "#%%\n"
    },
    "scrolled": false
   },
   "outputs": [],
   "source": [
    "# Output condensed file\n",
    "combined_factors[['Product', 'ei_match', 'ei_CO2e_100a_conv_factor', 'cm_match', 'cm_CO2e_100a_conv_factor', 'ihs_match', 'ihs_cradle-to-out-gate CO2e_100a,  allocation factor']]\n",
    "#condensed.to_csv(output_path+'processConversionFactors_condensed.csv', index=False)"
   ]
  }
 ],
 "metadata": {
  "kernelspec": {
   "display_name": "Python 3 (ipykernel)",
   "language": "python",
   "name": "python3"
  },
  "language_info": {
   "codemirror_mode": {
    "name": "ipython",
    "version": 3
   },
   "file_extension": ".py",
   "mimetype": "text/x-python",
   "name": "python",
   "nbconvert_exporter": "python",
   "pygments_lexer": "ipython3",
   "version": "3.8.8"
  },
  "toc": {
   "base_numbering": 1,
   "nav_menu": {},
   "number_sections": true,
   "sideBar": true,
   "skip_h1_title": false,
   "title_cell": "Table of Contents",
   "title_sidebar": "Contents",
   "toc_cell": false,
   "toc_position": {},
   "toc_section_display": true,
   "toc_window_display": false
  }
 },
 "nbformat": 4,
 "nbformat_minor": 1
}
