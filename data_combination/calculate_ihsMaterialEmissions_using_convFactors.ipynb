{
 "cells": [
  {
   "cell_type": "markdown",
   "metadata": {
    "pycharm": {
     "name": "#%% md\n"
    }
   },
   "source": [
    "# Calculate emissions for IHS materials contained in process recipes using conversion factors"
   ]
  },
  {
   "cell_type": "code",
   "execution_count": null,
   "metadata": {
    "pycharm": {
     "name": "#%%\n"
    }
   },
   "outputs": [],
   "source": [
    "# Import packages\n",
    "import numpy as np\n",
    "import pandas as pd\n",
    "from tqdm import tqdm\n",
    "\n",
    "pd.set_option('max_columns', None)\n",
    "pd.options.mode.chained_assignment = None"
   ]
  },
  {
   "cell_type": "markdown",
   "metadata": {
    "pycharm": {
     "name": "#%% md\n"
    }
   },
   "source": [
    "## Data imports"
   ]
  },
  {
   "cell_type": "code",
   "execution_count": null,
   "metadata": {
    "pycharm": {
     "name": "#%%\n"
    }
   },
   "outputs": [],
   "source": [
    "# Data file paths\n",
    "input_path = '../data/'\n",
    "output_path = '../data/combined/'\n",
    "ihs_materials_path = input_path+'processed/ihsMaterials_w_uncertainties.csv'\n",
    "ecoinvent_file = input_path+'processed/conversionFactors_ecoinvent_grouped.csv'\n",
    "carbonMinds_file = input_path+'processed/conversionFactors_carbonMinds_grouped.csv'\n",
    "match_list_path = input_path+'extra_inputs/nameMatches_IHS_to_convFactors.csv'"
   ]
  },
  {
   "cell_type": "code",
   "execution_count": null,
   "metadata": {
    "pycharm": {
     "name": "#%%\n"
    },
    "scrolled": true
   },
   "outputs": [],
   "source": [
    "# Import IHS process recipes\n",
    "ihs_materials = pd.read_csv(ihs_materials_path, index_col=0)\n",
    "ihs_materials.head()"
   ]
  },
  {
   "cell_type": "code",
   "execution_count": null,
   "metadata": {
    "pycharm": {
     "name": "#%%\n"
    }
   },
   "outputs": [],
   "source": [
    "# Import conversion factors\n",
    "ei_emissions = pd.read_csv(ecoinvent_file, index_col=0)\n",
    "cm_emissions = pd.read_csv(carbonMinds_file, index_col=0)\n",
    "\n",
    "ei_emissions.head()"
   ]
  },
  {
   "cell_type": "code",
   "execution_count": null,
   "metadata": {
    "pycharm": {
     "name": "#%%\n"
    }
   },
   "outputs": [],
   "source": [
    "## Add crude oil in g/MJ and 41.686MJ/kg crude\n",
    "crude_input = pd.DataFrame(np.array([['crude oil input'], ['Sourced from Crude oil Europe'], ['GLO'], [0.012*41.868], [0.012*41.868], [0.012*41.868], [0.005*41.868], [0.005*41.868], [0.005*41.868]]).transpose(), columns=['Source', 'generalComment', 'location', 'CO2e_20a', 'CO2e_100a', 'Carbon dioxide', 'CO2e_20a_sigma', 'CO2e_100a_sigma', 'Carbon dioxide_sigma'])\n",
    "ei_emissions = pd.concat((ei_emissions, crude_input))\n",
    "\n",
    "ei_emissions[ei_emissions.columns[3:]] = ei_emissions[ei_emissions.columns[3:]].astype(float)"
   ]
  },
  {
   "cell_type": "markdown",
   "metadata": {
    "pycharm": {
     "name": "#%% md\n"
    }
   },
   "source": [
    "## Assign emissions from feedstocks and indirect utilities"
   ]
  },
  {
   "cell_type": "code",
   "execution_count": null,
   "metadata": {
    "pycharm": {
     "name": "#%%\n"
    }
   },
   "outputs": [],
   "source": [
    "def filter_rows(df:pd.DataFrame, column:str, item:str, exact:bool=True):\n",
    "    \"\"\"Function for finding best match for input item in a df column\"\"\"\n",
    "    # If exact match enforced\n",
    "    if exact:\n",
    "        return df[df[column].str.lower() == item.lower()]\n",
    "\n",
    "    # If item is in string but not entire string\n",
    "    else: return df[[item in row for row in df[column].str.lower()]]\n",
    "\n",
    "def uncertainty_propagation(calc:str, x:float, dx:float, y:float=1, dy:float=0, z:float=1, propagation_type:str='simple') -> float:\n",
    "    \"\"\"Function for propagating uncertainty through calculations\"\"\"\n",
    "    # Multiplication\n",
    "    if calc == 'mult':\n",
    "        xdiv = np.divide(dx, x, out=np.zeros_like(dx), where=x!=0)\n",
    "        ydiv = np.divide(dy, y, out=np.zeros_like(dy), where=y!=0)\n",
    "        if propagation_type == 'simple':\n",
    "            return (xdiv + ydiv)*z\n",
    "        elif propagation_type == 'stdev':\n",
    "            return np.sqrt(pow(xdiv,2) + pow(ydiv,2))*z\n",
    "        else: Exception('Specified propagation_type not recognised.')\n",
    "\n",
    "    # Addition\n",
    "    elif calc == 'add':\n",
    "        if propagation_type == 'simple':\n",
    "            return abs(dx)+abs(dy)\n",
    "        elif propagation_type == 'stdev':\n",
    "            return np.sqrt(pow(dx,2) + pow(dy,2))\n",
    "        else: Exception('Specified propagation_type not recognised.')\n",
    "    else: Exception('Please specify calc of propagation')"
   ]
  },
  {
   "cell_type": "code",
   "execution_count": null,
   "metadata": {},
   "outputs": [],
   "source": [
    "def assign_emissions(df:pd.DataFrame, emissions_df:pd.DataFrame, product_col:str, emissions_col:str,\n",
    "                     product_val_col:str='Value', emission_val_cols:list=None, emission_val_cols_sigma:list= None, match_list=None, db_name:str='db', production_unit_conv:float=1, keep_all:bool=False) -> (pd.DataFrame, pd.DataFrame):\n",
    "    \"\"\"These function assigns appropriate emissions values from EcoInvent or Carbonminds to products or materials in IHS given a pre-determined match from file or finding the best matches available\"\"\"\n",
    "\n",
    "    # Create values if none exist\n",
    "    if match_list is None:\n",
    "        match_list = {}\n",
    "    if emission_val_cols is None:\n",
    "        emission_val_cols = ['Cradle-to-gate']\n",
    "    if emission_val_cols_sigma is None:\n",
    "        emission_val_cols_sigma = ['Cradle-to-gate_sigma']\n",
    "    product_val_col_sigma = product_val_col+'_sigma'\n",
    "\n",
    "    # Create columns to receive emissions, match name, emissions conversion factor\n",
    "    val_col, match_name_col, conv_factor_col = pd.DataFrame(columns=emission_val_cols), [], pd.DataFrame(columns=emission_val_cols)\n",
    "    # Columns for uncertainties of above\n",
    "    val_col_sigma, conv_factor_col_sigma = pd.DataFrame(columns=emission_val_cols_sigma), pd.DataFrame(columns=emission_val_cols_sigma)\n",
    "\n",
    "    # Create match dictionary from appropriate match dataframe column\n",
    "    length = len(emission_val_cols+emission_val_cols_sigma)\n",
    "    if isinstance(match_list, pd.DataFrame) and db_name in match_list.columns:\n",
    "        match_list = dict(zip(match_list['IHS'], match_list[db_name]))\n",
    "\n",
    "    # Loop through rows in assignment dataframe\n",
    "    for row_num, row in tqdm(enumerate(df.iloc())):\n",
    "\n",
    "        # Check match_list for match\n",
    "        if row[product_col].lower() in match_list.keys():\n",
    "\n",
    "            # If already defined as no match in db\n",
    "            if str(match_list[row[product_col].lower()]) == '0':\n",
    "                correspondence = pd.DataFrame()\n",
    "                emission_val, name = pd.DataFrame(np.array([np.NAN]*length).reshape(1,length), columns=emission_val_cols+emission_val_cols_sigma), np.NAN\n",
    "            # If match has corresponding db value\n",
    "            else:\n",
    "                correspondence = filter_rows(emissions_df, emissions_col, match_list[row[product_col].lower()])\n",
    "                emission_val = correspondence[emission_val_cols+emission_val_cols_sigma]\n",
    "                name = correspondence.iloc[0][emissions_col]\n",
    "\n",
    "        # If no match yet assigned\n",
    "        else:\n",
    "            # Find correspondence in emissions dataframe\n",
    "            correspondence = filter_rows(emissions_df, emissions_col, row[product_col].lower()) # Exact matching\n",
    "            \n",
    "            if len(correspondence) == 0: # No exact match -> Try name contained within a match\n",
    "                correspondence = filter_rows(emissions_df, emissions_col, row[product_col].lower(), exact=False)\n",
    "\n",
    "                if len(correspondence) > 1: # If multiple inexact matches\n",
    "                        take = input('Enter number of best match for '+row[product_col].lower()+':\\n'+str(correspondence[emissions_col])+'\\n Type n to skip') # Ask user for best match\n",
    "                        if take != 'n': \n",
    "                            correspondence = correspondence[correspondence[emissions_col]==correspondence.loc[int(take)][emissions_col]] # Take best match\n",
    "                        else:\n",
    "                            correspondence = pd.DataFrame() # If none correspond then empty correspondence\n",
    "\n",
    "            if len(correspondence) == 0: # No exact match -> Try match contained within name\n",
    "                matching = emissions_df[[i in row[product_col].lower() for i in emissions_df[emissions_col]]] # Emission string contained in row matching\n",
    "\n",
    "                if len(matching) > 0: # If multiple matches\n",
    "                    correspondence = matching.iloc[np.argmax([len(i) for i in matching[emissions_col]])] # Take greatest length of match if multiple\n",
    "                    emission_val = correspondence[emission_val_cols+emission_val_cols_sigma]\n",
    "                    name = correspondence[emissions_col]\n",
    "\n",
    "                else: emission_val, name = pd.DataFrame(np.array([np.NAN]*length).reshape(1,length), columns=emission_val_cols+emission_val_cols_sigma), np.NAN # If no matches identified\n",
    "\n",
    "            else:\n",
    "                emission_val = correspondence[emission_val_cols+emission_val_cols_sigma]\n",
    "                name = correspondence[emissions_col].values[0]\n",
    "\n",
    "            # Add match to match_list\n",
    "            if len(correspondence) != 0:\n",
    "                if isinstance(correspondence, pd.DataFrame):\n",
    "                    match_list.update({row[product_col].lower():correspondence.iloc[0]['Source']})\n",
    "                else:\n",
    "                    match_list.update({row[product_col].lower():correspondence['Source']})\n",
    "            else: match_list.update({row[product_col].lower():0})\n",
    "            del correspondence\n",
    "\n",
    "        # Add matching values to dataframe\n",
    "        val_col = pd.concat((val_col, row[product_val_col]*production_unit_conv*emission_val[emission_val_cols]))\n",
    "\n",
    "        # Calculate implied uncertainties and add to dataframe\n",
    "        val_col_sigma = pd.concat((val_col_sigma, uncertainty_propagation('mult', row[product_val_col], row[product_val_col_sigma], emission_val[emission_val_cols], emission_val[emission_val_cols_sigma], z=(row[product_val_col]*production_unit_conv*emission_val[emission_val_cols]).values)*production_unit_conv))\n",
    "\n",
    "        # Add other parameters to parameter lists\n",
    "        match_name_col += [name]\n",
    "        conv_factor_col = pd.concat((conv_factor_col, emission_val[emission_val_cols]))\n",
    "        conv_factor_col_sigma = pd.concat((conv_factor_col_sigma, emission_val[emission_val_cols_sigma]))\n",
    "\n",
    "    df[db_name + '_match'] = match_name_col\n",
    "    for column, sigma_col in zip(emission_val_cols, emission_val_cols_sigma):\n",
    "        df[db_name + '_' + column + '_cradle-to-gate'] = val_col[column].values\n",
    "        df[db_name + '_' + column + '_cradle-to-gate_sigma'] = val_col_sigma[sigma_col].values\n",
    "        df[db_name + '_' + column + '_conv_factor'] = conv_factor_col[column].values\n",
    "        df[db_name + '_' + column + '_conv_factor_sigma'] = conv_factor_col_sigma[sigma_col].values\n",
    "\n",
    "    return df, pd.DataFrame.from_dict(match_list, orient='index').reset_index().rename(columns={'index':'IHS', 0:db_name})"
   ]
  },
  {
   "cell_type": "code",
   "execution_count": null,
   "metadata": {},
   "outputs": [],
   "source": [
    "# Match equivalent emissions to materials\n",
    "keep_all = False\n",
    "if keep_all:\n",
    "    emission_val_cols = list(ei_emissions.columns[3:5])\n",
    "    emission_val_cols_sigma = list(ei_emissions.columns[16:18])\n",
    "else:\n",
    "    emission_val_cols = list(ei_emissions.columns[3:16])\n",
    "    emission_val_cols_sigma = list(ei_emissions.columns[16:])\n",
    "\n",
    "match_list_ei = pd.read_csv(match_list_path, index_col=False, usecols=['IHS','ei'])\n",
    "\n",
    "# EI matching\n",
    "material_emissions, upt_list = assign_emissions(ihs_materials.copy(), ei_emissions, 'Source/Object', 'Source', match_list=match_list_ei, db_name='ei', emission_val_cols=emission_val_cols, emission_val_cols_sigma=emission_val_cols_sigma, keep_all=keep_all)\n",
    "\n",
    "match_list_ei = pd.concat((match_list_ei, upt_list)).drop_duplicates(subset=['IHS'], keep='last')\n",
    "\n",
    "CM matching\n",
    "match_list_cm = pd.read_csv(match_list_path, index_col=False, usecols=['IHS','cm'])\n",
    "material_emissions, upt_list = assign_emissions(material_emissions, cm_emissions, 'Source/Object', 'Source', match_list=match_list_cm, db_name='cm', emission_val_cols=emission_val_cols, emission_val_cols_sigma=emission_val_cols_sigma)\n",
    "match_list_cm = pd.concat((match_list_cm, upt_list)).drop_duplicates(subset=['IHS'], keep='last')\n",
    "\n",
    "# Combine match lists\n",
    "all_matches = match_list_ei[['IHS','ei']]\n",
    "all_matches['cm'] = match_list_cm['cm']\n",
    "all_matches.sort_values('IHS').reset_index(drop=True).to_csv(match_list_path, index=False)\n",
    "\n",
    "# Create materials emissions\n",
    "material_emissions = material_emissions.drop_duplicates(subset=['Code', 'Source/Object']).reset_index(drop=True)\n",
    "\n",
    "material_emissions.head()"
   ]
  },
  {
   "cell_type": "code",
   "execution_count": null,
   "metadata": {
    "pycharm": {
     "name": "#%%\n"
    }
   },
   "outputs": [],
   "source": [
    "# Output emissions per material for process recipes\n",
    "material_emissions.to_csv(output_path+'ihsMaterialsEmissions_w_upstream.csv')"
   ]
  },
  {
   "cell_type": "markdown",
   "metadata": {
    "pycharm": {
     "name": "#%% md\n"
    }
   },
   "source": [
    "## Assign emissions from direct utilities"
   ]
  },
  {
   "cell_type": "code",
   "execution_count": null,
   "metadata": {
    "pycharm": {
     "name": "#%%\n"
    }
   },
   "outputs": [],
   "source": [
    "# Read in material emissions (with feedstock & indirect utilities)\n",
    "material_emissions = pd.read_csv(output_path+'ihsMaterialsEmissions_w_upstream.csv', index_col=0)\n",
    "direct_utl_conv = pd.read_csv(input_path+'extra_inputs/direct_utility_conversion_factors.csv')\n",
    "\n",
    "material_emissions['Type'] = material_emissions['Type'].replace({'Utilities':'Indirect Utilities'})"
   ]
  },
  {
   "cell_type": "code",
   "execution_count": null,
   "metadata": {
    "pycharm": {
     "name": "#%%\n"
    }
   },
   "outputs": [],
   "source": [
    "# Add direct emissions for each utility\n",
    "emission_val_cols = list(ei_emissions.columns[3:16])\n",
    "emission_val_cols_sigma = list(ei_emissions.columns[16:])\n",
    "\n",
    "direct_utl_ems = material_emissions[material_emissions['Type']=='Indirect Utilities'][material_emissions.columns[:14]]\n",
    "direct_utl_ems['Type'] = 'Direct Utilities'\n",
    "direct_utils = direct_utl_ems.merge(direct_utl_conv, left_on='Source/Object', right_on='Source', how='left').rename(columns={'Source':'ei_match'})\n",
    "\n",
    "for col in emission_val_cols+emission_val_cols_sigma+['Value', 'Value_sigma']:\n",
    "    direct_utils[col] = direct_utils[col].astype(float)\n",
    "\n",
    "for gas in emission_val_cols:\n",
    "    direct_utils['ei_'+gas+'_cradle-to-gate'] = direct_utils['Value']*direct_utils[gas]\n",
    "    direct_utils['ei_'+gas+'_cradle-to-gate_sigma'] = uncertainty_propagation('mult', direct_utils['Value'], direct_utils['Value_sigma'], direct_utils[gas], direct_utils[gas+'_sigma'], z=direct_utils['ei_'+gas+'_cradle-to-gate'])\n",
    "    direct_utils['ei_'+gas+'_conv_factor'] = direct_utils[gas]\n",
    "    direct_utils['ei_'+gas+'_conv_factor_sigma'] = direct_utils[gas+'_sigma']\n",
    "\n",
    "direct_utils.drop(columns=emission_val_cols+emission_val_cols_sigma, inplace=True)"
   ]
  },
  {
   "cell_type": "code",
   "execution_count": null,
   "metadata": {
    "pycharm": {
     "name": "#%%\n"
    }
   },
   "outputs": [],
   "source": [
    "# Merge with material emissions\n",
    "input_emissions = pd.concat((material_emissions, direct_utils), axis='index').sort_values(by=['Product', 'Target/Process', 'Code', 'Type', 'Source/Object'])\n",
    "\n",
    "input_emissions.to_csv(output_path+'ihsMaterialsEmissions_w_utilities.csv')"
   ]
  },
  {
   "cell_type": "markdown",
   "metadata": {
    "pycharm": {
     "name": "#%% md\n"
    }
   },
   "source": [
    "## Assign emissions from direct process"
   ]
  },
  {
   "cell_type": "code",
   "execution_count": null,
   "metadata": {
    "pycharm": {
     "name": "#%%\n"
    }
   },
   "outputs": [],
   "source": [
    "# Import materials from previous and define emission_val_cols\n",
    "\n",
    "emission_val_cols = list(ei_emissions.columns[3:16])\n",
    "emission_val_cols_sigma = list(ei_emissions.columns[16:])\n",
    "\n",
    "input_emissions = pd.read_csv(output_path+'ihsMaterialsEmissions_w_utilities.csv', index_col=0)\n",
    "input_emissions.head()"
   ]
  },
  {
   "cell_type": "code",
   "execution_count": null,
   "metadata": {
    "pycharm": {
     "name": "#%%\n"
    }
   },
   "outputs": [],
   "source": [
    "# Import direct emissions and match to existing products in ihsMaterials\n",
    "\n",
    "direct_emissions = pd.read_excel(input_path+'extra_inputs/Direct process emissions.xlsx', skiprows=2)[1:].dropna(subset=['Process']).sort_values('Process').reset_index(drop=True)\n",
    "direct_emissions = direct_emissions[['Process']+list(direct_emissions.columns[-5:])]\n",
    "direct_emissions['Process'] = direct_emissions['Process'].str.upper()\n",
    "\n",
    "product_process_match = pd.read_csv(input_path+'extra_inputs/product_to_directProcess_matches.csv')\n",
    "\n",
    "direct_emissions = direct_emissions.merge(product_process_match, on='Process', how='right').dropna(subset=['Product']).drop(columns=['Process']).drop_duplicates(subset=['Product']).rename(columns={'est. CO2':'Carbon dioxide', 'est. CH4':'Methane','est. N2O':'Nitric oxide', 'est. CO2e_20a':'CO2e_20a', 'est. CO2e_100a': 'CO2e_100a'})\n",
    "\n",
    "uncertainty_ratio = 0.01\n",
    "\n",
    "for col in emission_val_cols:\n",
    "    if col in list(direct_emissions.columns):\n",
    "        direct_emissions['ei_'+col+'_cradle-to-gate'] = direct_emissions[col].fillna(0).astype(float)\n",
    "        direct_emissions['ei_'+col+'_cradle-to-gate_sigma'] = (direct_emissions[col].astype(float)*uncertainty_ratio)\n",
    "        direct_emissions.drop(columns=[col], inplace=True)\n",
    "    else:\n",
    "        direct_emissions['ei_'+col+'_cradle-to-gate'] = 0\n",
    "        direct_emissions['ei_'+col+'_cradle-to-gate_sigma'] = 0\n",
    "\n",
    "direct_emissions.head()"
   ]
  },
  {
   "cell_type": "code",
   "execution_count": null,
   "metadata": {
    "pycharm": {
     "name": "#%%\n"
    }
   },
   "outputs": [],
   "source": [
    "# Add emissions for each direct process\n",
    "process_emissions = input_emissions[[i in list(direct_emissions['Product']) for i in list(input_emissions['Product'])]][input_emissions.columns[:14]].drop_duplicates(subset=['Code','Target/Process','Product']).reset_index(drop=True)\n",
    "process_emissions['Type'], process_emissions['MeasType'] = 'Direct Process', 'Chemical'\n",
    "process_emissions['Source/Object'] = process_emissions['Product']\n",
    "process_emissions['Value'], process_emissions['Value_sigma'] = 1, 0\n",
    "process_emissions = process_emissions.merge(direct_emissions, on='Product', how='inner')\n",
    "\n",
    "# Merge with all input emissions\n",
    "output_emissions = pd.concat((input_emissions, process_emissions), axis='index').sort_values(by=['Product', 'Target/Process', 'Code', 'Type', 'Source/Object'])\n",
    "output_emissions.head()"
   ]
  },
  {
   "cell_type": "code",
   "execution_count": null,
   "metadata": {
    "pycharm": {
     "name": "#%%\n"
    }
   },
   "outputs": [],
   "source": [
    "# Write to file\n",
    "output_emissions.to_csv(output_path+'ihsMaterialsEmissions_w_uncertainties.csv')"
   ]
  }
 ],
 "metadata": {
  "kernelspec": {
   "display_name": "Python 3 (ipykernel)",
   "language": "python",
   "name": "python3"
  },
  "language_info": {
   "codemirror_mode": {
    "name": "ipython",
    "version": 3
   },
   "file_extension": ".py",
   "mimetype": "text/x-python",
   "name": "python",
   "nbconvert_exporter": "python",
   "pygments_lexer": "ipython3",
   "version": "3.8.8"
  },
  "toc": {
   "base_numbering": 1,
   "nav_menu": {},
   "number_sections": true,
   "sideBar": true,
   "skip_h1_title": false,
   "title_cell": "Table of Contents",
   "title_sidebar": "Contents",
   "toc_cell": false,
   "toc_position": {},
   "toc_section_display": true,
   "toc_window_display": false
  },
  "vscode": {
   "interpreter": {
    "hash": "5bd18efe96e89ca56dc4172478a339764b61ea0834bfb59b6443dd7254159bd4"
   }
  }
 },
 "nbformat": 4,
 "nbformat_minor": 1
}
