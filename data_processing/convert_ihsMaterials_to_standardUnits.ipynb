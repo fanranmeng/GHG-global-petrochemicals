{
 "cells": [
  {
   "cell_type": "markdown",
   "metadata": {
    "pycharm": {
     "name": "#%% md\n"
    }
   },
   "source": [
    "# Convert IHS materials data to consistent units and add uncertainties"
   ]
  },
  {
   "cell_type": "code",
   "execution_count": null,
   "metadata": {
    "pycharm": {
     "name": "#%%\n"
    }
   },
   "outputs": [],
   "source": [
    "import numpy as np\n",
    "import pandas as pd\n",
    "\n",
    "pd.options.mode.chained_assignment = None"
   ]
  },
  {
   "cell_type": "code",
   "execution_count": null,
   "metadata": {
    "pycharm": {
     "name": "#%%\n"
    }
   },
   "outputs": [],
   "source": [
    "# Data file paths\n",
    "input_path = '../data/'\n",
    "output_path = '../data/processed/'\n",
    "ihs_materials_path = input_path+'extracted/ihsMaterials_Germany.csv'\n",
    "unit_conversion_path = input_path+'extra_inputs/unit_conversions.xlsx'"
   ]
  },
  {
   "cell_type": "code",
   "execution_count": null,
   "metadata": {
    "pycharm": {
     "name": "#%%\n"
    }
   },
   "outputs": [],
   "source": [
    "# Read in materials\n",
    "use_columns = ['Code', 'Data Version', 'Source', 'Source type', 'Target', 'Research Year', 'Geography', 'Product', 'Value', 'Value unit', 'Capacity unit']\n",
    "ihs_region = 'Germany'\n",
    "\n",
    "materials = pd.read_csv(ihs_materials_path)\n",
    "materials = materials[use_columns].loc[materials['Geography'] == ihs_region]\n",
    "materials.rename(columns={'Source':'Source/Object', 'Source type':'Type', 'Target':'Target/Process', 'Geography':'Country/Reg'}, inplace=True)\n",
    "materials['MeasType'] = materials['Type'].replace({'Raw Material':'Recipe', 'By-Product':'Recipe'})\n",
    "materials['Provenance'] = 'IHS PEP'\n",
    "\n",
    "# Enforce negative values as by-products\n",
    "materials['Type'] = ['By-Product' if val < 0 else def_type for val, def_type in zip(materials['Value'], materials['Type'])]\n",
    "\n",
    "materials.head()"
   ]
  },
  {
   "cell_type": "code",
   "execution_count": null,
   "metadata": {
    "pycharm": {
     "name": "#%%\n"
    }
   },
   "outputs": [],
   "source": [
    "materials['Product'].unique()"
   ]
  },
  {
   "cell_type": "code",
   "execution_count": null,
   "metadata": {
    "pycharm": {
     "name": "#%%\n"
    }
   },
   "outputs": [],
   "source": [
    "# Define unit conversion function\n",
    "\n",
    "def convert_units(mat_df:pd.DataFrame, unit_conversion:pd.DataFrame, unit_name:str, unit_column:str, value_column:str, unit_name_in_col:str, target_unit:str, inv_density:bool=False, standard_conversion:int=1) -> pd.DataFrame:\n",
    "\n",
    "    # Get appropriate conversions for unit\n",
    "    unit_filts = unit_conversion[unit_conversion['Unit']==unit_name]\n",
    "    unit_dict = dict(zip(unit_filts['Name'], unit_filts['density']))\n",
    "\n",
    "    # Cycle through dataframe to get conversion factor for each row\n",
    "    unit_mats = mat_df[mat_df[unit_column] == unit_name_in_col]\n",
    "    conv_factor = np.zeros(len(unit_mats))\n",
    "    for i, target in enumerate(unit_mats[value_column]):\n",
    "        for type in unit_dict.keys():\n",
    "            if target.startswith(type):\n",
    "                conv_factor[i] = unit_dict[type]\n",
    "                break\n",
    "            if type == list(unit_dict.keys())[-1]:\n",
    "                raise Exception(unit_name+' for '+target+' unit conversions missing')\n",
    "\n",
    "    # Convert values\n",
    "    if inv_density: # If converting from value in units to weight\n",
    "        unit_mats['Value'] = (unit_mats['Value']/standard_conversion)/conv_factor\n",
    "        #unit_mats['Value_sigma'] = (unit_mats['Value_sigma']/standard_conversion)/conv_factor\n",
    "    else: # If converting proportion of other materials\n",
    "        unit_mats['Value'] = (unit_mats['Value']/standard_conversion)*conv_factor\n",
    "        #unit_mats['Value_sigma'] = (unit_mats['Value_sigma']/standard_conversion)*conv_factor\n",
    "    unit_mats[unit_column] = target_unit\n",
    "\n",
    "    # Concatenate converted values with rest of original dataframe\n",
    "    return pd.concat((mat_df[mat_df[unit_column] != unit_name_in_col], unit_mats)).sort_values(['Code','Type'])"
   ]
  },
  {
   "cell_type": "code",
   "execution_count": null,
   "metadata": {
    "pycharm": {
     "name": "#%%\n"
    }
   },
   "outputs": [],
   "source": [
    "## Capacity unit conversions -> So all values are unit/tonne\n",
    "\"\"\" BTL is for 2 types of plastic bottles - ignored for now\n",
    "    M3 is only for water therefore 1000 KG equivalent and is for MM3 so 1/1000 for kg\n",
    "    NM3 is for gases per MNM3 - conversions and to get tonne equivalent\"\"\"\n",
    "\n",
    "# BTL filt\n",
    "materials_filt = materials[materials['Capacity unit'] != 'MM BTL/yr']\n",
    "\n",
    "# NM3 filt\n",
    "unit_conversion = pd.read_excel(unit_conversion_path)\n",
    "materials_filt = convert_units(materials_filt, unit_conversion, 'NM3', 'Capacity unit', 'Target/Process', 'MM NM3/yr', 'MM KG/yr', inv_density=True, standard_conversion=1)\n",
    "\n",
    "# M3 filt\n",
    "materials_filt['Value'] = materials_filt['Capacity unit'].replace({'MM KG/yr':1, 'MM M3/yr':1/1000}).astype(float)*materials_filt['Value'].astype(float)\n",
    "materials_filt['Capacity unit'] = 'MM KG/yr'"
   ]
  },
  {
   "cell_type": "code",
   "execution_count": null,
   "metadata": {
    "pycharm": {
     "name": "#%%\n"
    }
   },
   "outputs": [],
   "source": [
    "## Value unit conversions -> So all values are in kg/kg\n",
    "\n",
    "# Filter out EA and BOAT\n",
    "materials_values = materials_filt[materials_filt['Value unit'] != 'EA']\n",
    "materials_values = materials_values[materials_values['Value unit'] != 'EA/TONNE']\n",
    "materials_values = materials_values[materials_values['Value unit'] != 'BOAT']\n",
    "\n",
    "# NM3 conversion\n",
    "materials_values = convert_units(materials_values, unit_conversion, 'NM3', 'Value unit', 'Source/Object', 'NM3', 'kg/kg', standard_conversion=1000)\n",
    "materials_values = convert_units(materials_values, unit_conversion, 'NM3', 'Value unit', 'Source/Object', 'NM3/TONNE', 'kg/kg', standard_conversion=1000)\n",
    "\n",
    "# MMCAL conversion\n",
    "materials_values = convert_units(materials_values, unit_conversion, 'MMCAL', 'Value unit', 'Source/Object', 'MMCAL', 'kg/kg', standard_conversion=1000)\n",
    "materials_values = convert_units(materials_values, unit_conversion, 'MMCAL', 'Value unit', 'Source/Object', 'MMCAL/TONNE', 'kg/kg', standard_conversion=1000)\n",
    "\n",
    "# Remaining standard conversions\n",
    "conversion_ratios = {'TONNE/TONNE':1, 'TONNE':1, 'KG/TONNE':1E-3, 'KG':1E-3, 'G/TONNE':1E-6, 'G':1E-6, 'M3/TONNE':1, 'M3':1, 'KWH/TONNE':1E-3, 'KWH':1E-3, 'kg/kg':1}\n",
    "conversion_names = {'TONNE/TONNE':'kg/kg', 'TONNE':'kg/kg', 'KG/TONNE':'kg/kg', 'KG':'kg/kg', 'G/TONNE':'kg/kg', 'G':'kg/kg', 'M3/TONNE':'kg/kg', 'M3':'kg/kg', 'KWH/TONNE':'kWh/kg',  'KWH':'kWh/kg', 'kg/kg':'kg/kg'}\n",
    "materials_values['Value'] = materials_values['Value unit'].replace(conversion_ratios)*materials_values['Value']\n",
    "materials_values['Value unit'] = materials_values['Value unit'].replace(conversion_names)\n",
    "\n",
    "materials_values"
   ]
  },
  {
   "cell_type": "code",
   "execution_count": null,
   "metadata": {
    "pycharm": {
     "name": "#%%\n"
    }
   },
   "outputs": [],
   "source": [
    "# Add uncertainty\n",
    "uncertainty_factor = 0.05\n",
    "materials_values['Value_sigma'] = abs(materials_values['Value'])*uncertainty_factor"
   ]
  },
  {
   "cell_type": "code",
   "execution_count": null,
   "metadata": {
    "pycharm": {
     "name": "#%%\n"
    }
   },
   "outputs": [],
   "source": [
    "materials_values"
   ]
  },
  {
   "cell_type": "code",
   "execution_count": null,
   "metadata": {
    "pycharm": {
     "name": "#%%\n"
    }
   },
   "outputs": [],
   "source": [
    "# Output process recipes with consistent units and uncertainties\n",
    "materials_values.reset_index(drop=True).to_csv(output_path+'ihsMaterials_w_uncertainties.csv')"
   ]
  },
  {
   "cell_type": "code",
   "execution_count": null,
   "metadata": {
    "pycharm": {
     "name": "#%%\n"
    }
   },
   "outputs": [],
   "source": []
  }
 ],
 "metadata": {
  "kernelspec": {
   "display_name": "Python 3 (ipykernel)",
   "language": "python",
   "name": "python3"
  },
  "language_info": {
   "codemirror_mode": {
    "name": "ipython",
    "version": 3
   },
   "file_extension": ".py",
   "mimetype": "text/x-python",
   "name": "python",
   "nbconvert_exporter": "python",
   "pygments_lexer": "ipython3",
   "version": "3.8.8"
  },
  "toc": {
   "base_numbering": 1,
   "nav_menu": {},
   "number_sections": true,
   "sideBar": true,
   "skip_h1_title": false,
   "title_cell": "Table of Contents",
   "title_sidebar": "Contents",
   "toc_cell": false,
   "toc_position": {},
   "toc_section_display": true,
   "toc_window_display": false
  }
 },
 "nbformat": 4,
 "nbformat_minor": 1
}
